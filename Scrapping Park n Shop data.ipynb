{
 "cells": [
  {
   "cell_type": "markdown",
   "id": "f93e4eae",
   "metadata": {},
   "source": [
    "## Scrapping Park n Shop data"
   ]
  },
  {
   "cell_type": "code",
   "execution_count": 1,
   "id": "1ec03226",
   "metadata": {},
   "outputs": [],
   "source": [
    "from selenium import webdriver\n",
    "import re\n",
    "import pandas as pd\n",
    "import os\n",
    "import urllib.request\n",
    "import time\n",
    "from selenium.webdriver.common.by import By\n",
    "from selenium.webdriver.support.ui import WebDriverWait\n",
    "from selenium.webdriver.support import expected_conditions as EC\n",
    "from selenium.webdriver.chrome.options import Options\n",
    "from selenium.webdriver.common.action_chains import ActionChains\n",
    "import matplotlib.pyplot as plt\n",
    "#import cv2\n",
    "import numpy as np\n",
    "from PIL import Image\n",
    "from io import BytesIO\n",
    "import requests\n",
    "import base64\n",
    "from IPython.core.display import HTML\n",
    "import pickle\n",
    "from tqdm import tqdm"
   ]
  },
  {
   "cell_type": "code",
   "execution_count": 2,
   "id": "0c8d2734",
   "metadata": {},
   "outputs": [],
   "source": [
    "pd.set_option('display.max_colwidth', 30)\n",
    "\n",
    "def get_thumbnail(path):\n",
    "    i = Image.open(path)\n",
    "    i.thumbnail((150, 150), Image.LANCZOS)\n",
    "    return i\n",
    "\n",
    "def image_base64(im):\n",
    "    if isinstance(im, str):\n",
    "        im = get_thumbnail(im)\n",
    "    with BytesIO() as buffer:\n",
    "        im.save(buffer, 'jpeg')\n",
    "        return base64.b64encode(buffer.getvalue()).decode()\n",
    "\n",
    "def image_formatter(im):\n",
    "    return f'<img src=\"data:image/jpeg;base64,{image_base64(im)}\">'"
   ]
  },
  {
   "cell_type": "code",
   "execution_count": 3,
   "id": "9c3df964",
   "metadata": {},
   "outputs": [],
   "source": [
    "def display_an_image(src):\n",
    "    response = requests.get(src)\n",
    "    img = Image.open(BytesIO(response.content))\n",
    "    return img.resize((100,100))"
   ]
  },
  {
   "cell_type": "code",
   "execution_count": 4,
   "id": "1c921c96",
   "metadata": {},
   "outputs": [],
   "source": [
    "url = 'https://www.parknshop.com/en/'"
   ]
  },
  {
   "cell_type": "code",
   "execution_count": 5,
   "id": "9af79521",
   "metadata": {},
   "outputs": [],
   "source": [
    "option = Options()\n",
    "option.headless = False\n",
    "driver = webdriver.Chrome(options=option)"
   ]
  },
  {
   "cell_type": "code",
   "execution_count": 6,
   "id": "867d6ccf",
   "metadata": {},
   "outputs": [],
   "source": [
    "driver.get(url)"
   ]
  },
  {
   "cell_type": "code",
   "execution_count": 7,
   "id": "9b4b2636",
   "metadata": {},
   "outputs": [],
   "source": [
    "action = ActionChains(driver)"
   ]
  },
  {
   "cell_type": "code",
   "execution_count": 8,
   "id": "e47ebcbf",
   "metadata": {},
   "outputs": [],
   "source": [
    "webElem = driver.find_elements(By.CLASS_NAME, \"nav-item\")"
   ]
  },
  {
   "cell_type": "code",
   "execution_count": 9,
   "id": "6d5337b9",
   "metadata": {},
   "outputs": [
    {
     "data": {
      "text/plain": [
       "[('Food & Beverages', 'https://www.parknshop.com/en/foodBeverages'),\n",
       " ('Baby & Mum', 'https://www.parknshop.com/en/babyMum'),\n",
       " ('Personal Care & Health', 'https://www.parknshop.com/en/personalCareHealth'),\n",
       " ('Houseware', 'https://www.parknshop.com/en/houseWare'),\n",
       " ('Pet Care', 'https://www.parknshop.com/en/petCare'),\n",
       " ('Xmas super deals', 'https://www.parknshop.com/en/promo/Xmas')]"
      ]
     },
     "execution_count": 9,
     "metadata": {},
     "output_type": "execute_result"
    }
   ],
   "source": [
    "lvl0 = [(x.text, x.get_attribute('href')) for x in webElem]\n",
    "lvl0"
   ]
  },
  {
   "cell_type": "code",
   "execution_count": 10,
   "id": "2857f600",
   "metadata": {},
   "outputs": [],
   "source": [
    "action.move_to_element(webElem[0]).perform()\n",
    "webElem1 = driver.find_elements(By.CLASS_NAME, \"subCategorylv1\")"
   ]
  },
  {
   "cell_type": "code",
   "execution_count": 11,
   "id": "530e8bad",
   "metadata": {},
   "outputs": [
    {
     "data": {
      "text/plain": [
       "'Alcoholic Drink'"
      ]
     },
     "execution_count": 11,
     "metadata": {},
     "output_type": "execute_result"
    }
   ],
   "source": [
    "webElem1[1].text"
   ]
  },
  {
   "cell_type": "code",
   "execution_count": 13,
   "id": "5f701ff5",
   "metadata": {},
   "outputs": [],
   "source": [
    "lvl1 = {}\n",
    "for i in range(len(lvl0)):\n",
    "    action.move_to_element(webElem[i]).perform()\n",
    "    webElem1 = driver.find_elements(By.CLASS_NAME, \"subCategorylv1\")\n",
    "    lvl1[lvl0[i][0]] = [(x.text, x.get_attribute('href'), x) for x in webElem1 if len(x.text)>0]"
   ]
  },
  {
   "cell_type": "code",
   "execution_count": 14,
   "id": "639915e1",
   "metadata": {},
   "outputs": [
    {
     "data": {
      "text/plain": [
       "[('Cat Care',\n",
       "  'https://www.parknshop.com/en/cat-care/lc/08010000',\n",
       "  <selenium.webdriver.remote.webelement.WebElement (session=\"007e04e2f8fe1b32f7f52a408e7d35e4\", element=\"802f2584-59a1-4055-91eb-f5502de80e53\")>),\n",
       " ('Dog Care',\n",
       "  'https://www.parknshop.com/en/dog-care/lc/08020000',\n",
       "  <selenium.webdriver.remote.webelement.WebElement (session=\"007e04e2f8fe1b32f7f52a408e7d35e4\", element=\"1542b662-c3aa-46ab-863d-276c293a0acb\")>),\n",
       " ('Pet Safe Cleaner',\n",
       "  'https://www.parknshop.com/en/pet-care/pet-safe-cleaner/c/08040000',\n",
       "  <selenium.webdriver.remote.webelement.WebElement (session=\"007e04e2f8fe1b32f7f52a408e7d35e4\", element=\"23e66203-9689-4d0b-b7a5-e1a892667079\")>),\n",
       " ('Pet Food',\n",
       "  'https://www.parknshop.com/en/pet-food/lc/08050000',\n",
       "  <selenium.webdriver.remote.webelement.WebElement (session=\"007e04e2f8fe1b32f7f52a408e7d35e4\", element=\"4fe02170-9057-4fe4-b390-1fb23640af33\")>),\n",
       " ('Pet Supplies',\n",
       "  'https://www.parknshop.com/en/pet-care/pet-supplies/c/08060000',\n",
       "  <selenium.webdriver.remote.webelement.WebElement (session=\"007e04e2f8fe1b32f7f52a408e7d35e4\", element=\"351c60f6-eb43-45d0-b0f5-2bd5befe8f47\")>)]"
      ]
     },
     "execution_count": 14,
     "metadata": {},
     "output_type": "execute_result"
    }
   ],
   "source": [
    "lvl1['Pet Care']"
   ]
  },
  {
   "cell_type": "code",
   "execution_count": 15,
   "id": "af35e974",
   "metadata": {},
   "outputs": [
    {
     "data": {
      "text/plain": [
       "['Food & Beverages',\n",
       " 'Baby & Mum',\n",
       " 'Personal Care & Health',\n",
       " 'Houseware',\n",
       " 'Pet Care',\n",
       " 'Xmas super deals']"
      ]
     },
     "execution_count": 15,
     "metadata": {},
     "output_type": "execute_result"
    }
   ],
   "source": [
    "lvl0_names = list(lvl1.keys())\n",
    "lvl0_names"
   ]
  },
  {
   "cell_type": "code",
   "execution_count": 21,
   "id": "f8dbd1ef",
   "metadata": {},
   "outputs": [],
   "source": [
    "lvl2 = {}\n",
    "for k in range(len(lvl1)):\n",
    "    action.move_to_element(webElem[k]).perform()\n",
    "    webElem1 = driver.find_elements(By.CLASS_NAME, \"subCategorylv1\")\n",
    "    for i in range(len(lvl1[lvl0_names[k]])):\n",
    "        wE = lvl1[lvl0_names[k]][i]\n",
    "        action.move_to_element(wE[2]).perform()\n",
    "        webElem2 = driver.find_elements(By.CLASS_NAME, \"subcategory-item\")\n",
    "        lvl2[wE[0]] = [(x.text, x.get_attribute('href')) for x in webElem2 if len(x.text) > 0]"
   ]
  },
  {
   "cell_type": "code",
   "execution_count": 17,
   "id": "6a96af59",
   "metadata": {},
   "outputs": [
    {
     "data": {
      "text/plain": [
       "[('Water', 'https://www.parknshop.com/en/food-beverages/water/c/04010100'),\n",
       " ('Carbonated Drink',\n",
       "  'https://www.parknshop.com/en/food-beverages/carbonated-drink/c/04010200'),\n",
       " ('Instant Tea/ Coffee/ Milk Tea',\n",
       "  'https://www.parknshop.com/en/food-beverages/instant-tea-coffee-milk-tea/c/04010300'),\n",
       " ('Milk & Yogurt',\n",
       "  'https://www.parknshop.com/en/food-beverages/milk-yogurt/c/04010400'),\n",
       " ('Plant Based & Soy Milk',\n",
       "  'https://www.parknshop.com/en/food-beverages/plant-based-soy-milk/c/04010500'),\n",
       " ('Hot Drink & Mix Powder',\n",
       "  'https://www.parknshop.com/en/food-beverages/hot-drink-mix-powder/c/04010600'),\n",
       " ('Juice & Coconut Water',\n",
       "  'https://www.parknshop.com/en/food-beverages/juice-coconut-water/c/04010700'),\n",
       " ('Energy Drink',\n",
       "  'https://www.parknshop.com/en/food-beverages/energy-drink/c/04010800'),\n",
       " ('Herbal & Healthy Drink',\n",
       "  'https://www.parknshop.com/en/food-beverages/herbal-healthy-drink/c/04010900'),\n",
       " ('Case Offer',\n",
       "  'https://www.parknshop.com/en/food-beverages/case-offer/c/04011000')]"
      ]
     },
     "execution_count": 17,
     "metadata": {},
     "output_type": "execute_result"
    }
   ],
   "source": [
    "lvl2['Beverages']"
   ]
  },
  {
   "cell_type": "code",
   "execution_count": 18,
   "id": "6e25e6ee",
   "metadata": {},
   "outputs": [
    {
     "data": {
      "text/plain": [
       "[('Dog Food', 'https://www.parknshop.com/en/pet-care/dog-food/c/08020100'),\n",
       " ('Dog Pad & Diaper',\n",
       "  'https://www.parknshop.com/en/pet-care/dog-pad-diaper/c/08020200'),\n",
       " ('Dog Toy & Accessories',\n",
       "  'https://www.parknshop.com/en/pet-care/dog-toy-accessories/c/08020300'),\n",
       " ('Dog Healthcare',\n",
       "  'https://www.parknshop.com/en/pet-care/dog-healthcare/c/08020400')]"
      ]
     },
     "execution_count": 18,
     "metadata": {},
     "output_type": "execute_result"
    }
   ],
   "source": [
    "lvl2['Dog Care']"
   ]
  },
  {
   "cell_type": "code",
   "execution_count": 19,
   "id": "8c06d0af",
   "metadata": {},
   "outputs": [
    {
     "data": {
      "text/plain": [
       "[('Case Offer', 'https://www.parknshop.com/en/pet-care/case-offer/c/08050001')]"
      ]
     },
     "execution_count": 19,
     "metadata": {},
     "output_type": "execute_result"
    }
   ],
   "source": [
    "lvl2['Pet Food']"
   ]
  },
  {
   "cell_type": "code",
   "execution_count": 22,
   "id": "067a3909",
   "metadata": {},
   "outputs": [
    {
     "data": {
      "text/plain": [
       "[('Stage 1', 'https://www.parknshop.com/en/baby-mum/stage-1/c/06010100'),\n",
       " ('Stage 2', 'https://www.parknshop.com/en/baby-mum/stage-2/c/06010200'),\n",
       " ('Stage 3', 'https://www.parknshop.com/en/baby-mum/stage-3/c/06010300'),\n",
       " ('Stage 4', 'https://www.parknshop.com/en/baby-mum/stage-4/c/06010400'),\n",
       " ('Stage 5', 'https://www.parknshop.com/en/baby-mum/stage-5/c/06010500'),\n",
       " ('Special Formula',\n",
       "  'https://www.parknshop.com/en/baby-mum/special-formula/c/06010600')]"
      ]
     },
     "execution_count": 22,
     "metadata": {},
     "output_type": "execute_result"
    }
   ],
   "source": [
    "lvl2['Baby Milk Formula']"
   ]
  },
  {
   "cell_type": "code",
   "execution_count": 23,
   "id": "b050a976",
   "metadata": {},
   "outputs": [
    {
     "data": {
      "text/plain": [
       "['Beverages',\n",
       " 'Alcoholic Drink',\n",
       " 'Pre-Order & Catering',\n",
       " 'Grocery',\n",
       " 'Canned, Preserved & Dried Food',\n",
       " 'Condiment, Sauce & Soup',\n",
       " 'Snack & Dessert',\n",
       " 'Chilled/ Frozen Food',\n",
       " 'Fruit & Vegetable',\n",
       " 'Breakfast & Jam',\n",
       " 'Baby Milk Formula',\n",
       " 'Baby Diaper & Pant',\n",
       " 'Baby Food',\n",
       " 'Baby Care',\n",
       " 'Other Baby Needs',\n",
       " 'Toilet Roll & Tissue',\n",
       " 'Household Cleaner',\n",
       " 'Kitchen Cleaner',\n",
       " 'Bathroom Cleaner',\n",
       " 'Laundry',\n",
       " 'Kitchenware & Tableware',\n",
       " 'Home Appliance',\n",
       " 'Houseware & Party Supplies',\n",
       " 'Outdoor & Gardenware',\n",
       " 'Home Care',\n",
       " 'Cat Care',\n",
       " 'Dog Care',\n",
       " 'Pet Safe Cleaner',\n",
       " 'Pet Food',\n",
       " 'Pet Supplies']"
      ]
     },
     "execution_count": 23,
     "metadata": {},
     "output_type": "execute_result"
    }
   ],
   "source": [
    "products = list(lvl2.keys())\n",
    "products"
   ]
  },
  {
   "cell_type": "code",
   "execution_count": 34,
   "id": "d9c1ee3d",
   "metadata": {},
   "outputs": [
    {
     "data": {
      "text/plain": [
       "'Household Cleaner'"
      ]
     },
     "execution_count": 34,
     "metadata": {},
     "output_type": "execute_result"
    }
   ],
   "source": [
    "products[16]"
   ]
  },
  {
   "cell_type": "code",
   "execution_count": 35,
   "id": "cf093a95",
   "metadata": {},
   "outputs": [
    {
     "ename": "KeyboardInterrupt",
     "evalue": "",
     "output_type": "error",
     "traceback": [
      "\u001b[1;31m---------------------------------------------------------------------------\u001b[0m",
      "\u001b[1;31mKeyboardInterrupt\u001b[0m                         Traceback (most recent call last)",
      "\u001b[1;32mC:\\Users\\KINGCH~1\\AppData\\Local\\Temp/ipykernel_10452/3843150698.py\u001b[0m in \u001b[0;36m<module>\u001b[1;34m\u001b[0m\n\u001b[0;32m     20\u001b[0m         \u001b[0mpinfo\u001b[0m \u001b[1;33m=\u001b[0m \u001b[1;33m[\u001b[0m\u001b[0mt\u001b[0m\u001b[1;33m.\u001b[0m\u001b[0msplit\u001b[0m\u001b[1;33m(\u001b[0m\u001b[1;34m'\\n'\u001b[0m\u001b[1;33m)\u001b[0m \u001b[1;32mfor\u001b[0m \u001b[0mt\u001b[0m \u001b[1;32min\u001b[0m \u001b[0mpinfo\u001b[0m\u001b[1;33m]\u001b[0m\u001b[1;33m\u001b[0m\u001b[1;33m\u001b[0m\u001b[0m\n\u001b[0;32m     21\u001b[0m         \u001b[0mpphoto\u001b[0m \u001b[1;33m=\u001b[0m \u001b[0mdriver\u001b[0m\u001b[1;33m.\u001b[0m\u001b[0mfind_elements\u001b[0m\u001b[1;33m(\u001b[0m\u001b[0mBy\u001b[0m\u001b[1;33m.\u001b[0m\u001b[0mXPATH\u001b[0m\u001b[1;33m,\u001b[0m \u001b[1;34m\"//*/div[@class='productTitle']/a/e2-product-thumbnail/e2-media/img\"\u001b[0m\u001b[1;33m)\u001b[0m\u001b[1;33m\u001b[0m\u001b[1;33m\u001b[0m\u001b[0m\n\u001b[1;32m---> 22\u001b[1;33m         \u001b[0mpphoto\u001b[0m \u001b[1;33m=\u001b[0m \u001b[1;33m[\u001b[0m\u001b[0mt\u001b[0m\u001b[1;33m.\u001b[0m\u001b[0mget_attribute\u001b[0m\u001b[1;33m(\u001b[0m\u001b[1;34m'src'\u001b[0m\u001b[1;33m)\u001b[0m \u001b[1;32mfor\u001b[0m \u001b[0mt\u001b[0m \u001b[1;32min\u001b[0m \u001b[0mpphoto\u001b[0m\u001b[1;33m]\u001b[0m\u001b[1;33m\u001b[0m\u001b[1;33m\u001b[0m\u001b[0m\n\u001b[0m\u001b[0;32m     23\u001b[0m         \u001b[0mS\u001b[0m \u001b[1;33m=\u001b[0m \u001b[0mlist\u001b[0m\u001b[1;33m(\u001b[0m\u001b[0mzip\u001b[0m\u001b[1;33m(\u001b[0m\u001b[0mpinfo\u001b[0m\u001b[1;33m,\u001b[0m\u001b[0mpphoto\u001b[0m\u001b[1;33m)\u001b[0m\u001b[1;33m)\u001b[0m\u001b[1;33m\u001b[0m\u001b[1;33m\u001b[0m\u001b[0m\n\u001b[0;32m     24\u001b[0m         \u001b[0mSS\u001b[0m \u001b[1;33m=\u001b[0m \u001b[1;33m[\u001b[0m\u001b[1;33m(\u001b[0m\u001b[1;33m*\u001b[0m\u001b[0mx\u001b[0m\u001b[1;33m,\u001b[0m\u001b[0my\u001b[0m\u001b[1;33m)\u001b[0m \u001b[1;32mfor\u001b[0m \u001b[0mx\u001b[0m\u001b[1;33m,\u001b[0m\u001b[0my\u001b[0m \u001b[1;32min\u001b[0m \u001b[0mS\u001b[0m\u001b[1;33m]\u001b[0m\u001b[1;33m\u001b[0m\u001b[1;33m\u001b[0m\u001b[0m\n",
      "\u001b[1;32mC:\\Users\\KINGCH~1\\AppData\\Local\\Temp/ipykernel_10452/3843150698.py\u001b[0m in \u001b[0;36m<listcomp>\u001b[1;34m(.0)\u001b[0m\n\u001b[0;32m     20\u001b[0m         \u001b[0mpinfo\u001b[0m \u001b[1;33m=\u001b[0m \u001b[1;33m[\u001b[0m\u001b[0mt\u001b[0m\u001b[1;33m.\u001b[0m\u001b[0msplit\u001b[0m\u001b[1;33m(\u001b[0m\u001b[1;34m'\\n'\u001b[0m\u001b[1;33m)\u001b[0m \u001b[1;32mfor\u001b[0m \u001b[0mt\u001b[0m \u001b[1;32min\u001b[0m \u001b[0mpinfo\u001b[0m\u001b[1;33m]\u001b[0m\u001b[1;33m\u001b[0m\u001b[1;33m\u001b[0m\u001b[0m\n\u001b[0;32m     21\u001b[0m         \u001b[0mpphoto\u001b[0m \u001b[1;33m=\u001b[0m \u001b[0mdriver\u001b[0m\u001b[1;33m.\u001b[0m\u001b[0mfind_elements\u001b[0m\u001b[1;33m(\u001b[0m\u001b[0mBy\u001b[0m\u001b[1;33m.\u001b[0m\u001b[0mXPATH\u001b[0m\u001b[1;33m,\u001b[0m \u001b[1;34m\"//*/div[@class='productTitle']/a/e2-product-thumbnail/e2-media/img\"\u001b[0m\u001b[1;33m)\u001b[0m\u001b[1;33m\u001b[0m\u001b[1;33m\u001b[0m\u001b[0m\n\u001b[1;32m---> 22\u001b[1;33m         \u001b[0mpphoto\u001b[0m \u001b[1;33m=\u001b[0m \u001b[1;33m[\u001b[0m\u001b[0mt\u001b[0m\u001b[1;33m.\u001b[0m\u001b[0mget_attribute\u001b[0m\u001b[1;33m(\u001b[0m\u001b[1;34m'src'\u001b[0m\u001b[1;33m)\u001b[0m \u001b[1;32mfor\u001b[0m \u001b[0mt\u001b[0m \u001b[1;32min\u001b[0m \u001b[0mpphoto\u001b[0m\u001b[1;33m]\u001b[0m\u001b[1;33m\u001b[0m\u001b[1;33m\u001b[0m\u001b[0m\n\u001b[0m\u001b[0;32m     23\u001b[0m         \u001b[0mS\u001b[0m \u001b[1;33m=\u001b[0m \u001b[0mlist\u001b[0m\u001b[1;33m(\u001b[0m\u001b[0mzip\u001b[0m\u001b[1;33m(\u001b[0m\u001b[0mpinfo\u001b[0m\u001b[1;33m,\u001b[0m\u001b[0mpphoto\u001b[0m\u001b[1;33m)\u001b[0m\u001b[1;33m)\u001b[0m\u001b[1;33m\u001b[0m\u001b[1;33m\u001b[0m\u001b[0m\n\u001b[0;32m     24\u001b[0m         \u001b[0mSS\u001b[0m \u001b[1;33m=\u001b[0m \u001b[1;33m[\u001b[0m\u001b[1;33m(\u001b[0m\u001b[1;33m*\u001b[0m\u001b[0mx\u001b[0m\u001b[1;33m,\u001b[0m\u001b[0my\u001b[0m\u001b[1;33m)\u001b[0m \u001b[1;32mfor\u001b[0m \u001b[0mx\u001b[0m\u001b[1;33m,\u001b[0m\u001b[0my\u001b[0m \u001b[1;32min\u001b[0m \u001b[0mS\u001b[0m\u001b[1;33m]\u001b[0m\u001b[1;33m\u001b[0m\u001b[1;33m\u001b[0m\u001b[0m\n",
      "\u001b[1;32m~\\anaconda3\\lib\\site-packages\\selenium\\webdriver\\remote\\webelement.py\u001b[0m in \u001b[0;36mget_attribute\u001b[1;34m(self, name)\u001b[0m\n\u001b[0;32m    177\u001b[0m         \u001b[1;32mif\u001b[0m \u001b[0mgetAttribute_js\u001b[0m \u001b[1;32mis\u001b[0m \u001b[1;32mNone\u001b[0m\u001b[1;33m:\u001b[0m\u001b[1;33m\u001b[0m\u001b[1;33m\u001b[0m\u001b[0m\n\u001b[0;32m    178\u001b[0m             \u001b[0m_load_js\u001b[0m\u001b[1;33m(\u001b[0m\u001b[1;33m)\u001b[0m\u001b[1;33m\u001b[0m\u001b[1;33m\u001b[0m\u001b[0m\n\u001b[1;32m--> 179\u001b[1;33m         attribute_value = self.parent.execute_script(\n\u001b[0m\u001b[0;32m    180\u001b[0m             \u001b[1;34m\"return (%s).apply(null, arguments);\"\u001b[0m \u001b[1;33m%\u001b[0m \u001b[0mgetAttribute_js\u001b[0m\u001b[1;33m,\u001b[0m \u001b[0mself\u001b[0m\u001b[1;33m,\u001b[0m \u001b[0mname\u001b[0m\u001b[1;33m\u001b[0m\u001b[1;33m\u001b[0m\u001b[0m\n\u001b[0;32m    181\u001b[0m         )\n",
      "\u001b[1;32m~\\anaconda3\\lib\\site-packages\\selenium\\webdriver\\remote\\webdriver.py\u001b[0m in \u001b[0;36mexecute_script\u001b[1;34m(self, script, *args)\u001b[0m\n\u001b[0;32m    504\u001b[0m         \u001b[0mcommand\u001b[0m \u001b[1;33m=\u001b[0m \u001b[0mCommand\u001b[0m\u001b[1;33m.\u001b[0m\u001b[0mW3C_EXECUTE_SCRIPT\u001b[0m\u001b[1;33m\u001b[0m\u001b[1;33m\u001b[0m\u001b[0m\n\u001b[0;32m    505\u001b[0m \u001b[1;33m\u001b[0m\u001b[0m\n\u001b[1;32m--> 506\u001b[1;33m         \u001b[1;32mreturn\u001b[0m \u001b[0mself\u001b[0m\u001b[1;33m.\u001b[0m\u001b[0mexecute\u001b[0m\u001b[1;33m(\u001b[0m\u001b[0mcommand\u001b[0m\u001b[1;33m,\u001b[0m \u001b[1;33m{\u001b[0m\u001b[1;34m\"script\"\u001b[0m\u001b[1;33m:\u001b[0m \u001b[0mscript\u001b[0m\u001b[1;33m,\u001b[0m \u001b[1;34m\"args\"\u001b[0m\u001b[1;33m:\u001b[0m \u001b[0mconverted_args\u001b[0m\u001b[1;33m}\u001b[0m\u001b[1;33m)\u001b[0m\u001b[1;33m[\u001b[0m\u001b[1;34m\"value\"\u001b[0m\u001b[1;33m]\u001b[0m\u001b[1;33m\u001b[0m\u001b[1;33m\u001b[0m\u001b[0m\n\u001b[0m\u001b[0;32m    507\u001b[0m \u001b[1;33m\u001b[0m\u001b[0m\n\u001b[0;32m    508\u001b[0m     \u001b[1;32mdef\u001b[0m \u001b[0mexecute_async_script\u001b[0m\u001b[1;33m(\u001b[0m\u001b[0mself\u001b[0m\u001b[1;33m,\u001b[0m \u001b[0mscript\u001b[0m\u001b[1;33m:\u001b[0m \u001b[0mstr\u001b[0m\u001b[1;33m,\u001b[0m \u001b[1;33m*\u001b[0m\u001b[0margs\u001b[0m\u001b[1;33m)\u001b[0m\u001b[1;33m:\u001b[0m\u001b[1;33m\u001b[0m\u001b[1;33m\u001b[0m\u001b[0m\n",
      "\u001b[1;32m~\\anaconda3\\lib\\site-packages\\selenium\\webdriver\\remote\\webdriver.py\u001b[0m in \u001b[0;36mexecute\u001b[1;34m(self, driver_command, params)\u001b[0m\n\u001b[0;32m    440\u001b[0m                 \u001b[0mparams\u001b[0m\u001b[1;33m[\u001b[0m\u001b[1;34m\"sessionId\"\u001b[0m\u001b[1;33m]\u001b[0m \u001b[1;33m=\u001b[0m \u001b[0mself\u001b[0m\u001b[1;33m.\u001b[0m\u001b[0msession_id\u001b[0m\u001b[1;33m\u001b[0m\u001b[1;33m\u001b[0m\u001b[0m\n\u001b[0;32m    441\u001b[0m \u001b[1;33m\u001b[0m\u001b[0m\n\u001b[1;32m--> 442\u001b[1;33m         \u001b[0mresponse\u001b[0m \u001b[1;33m=\u001b[0m \u001b[0mself\u001b[0m\u001b[1;33m.\u001b[0m\u001b[0mcommand_executor\u001b[0m\u001b[1;33m.\u001b[0m\u001b[0mexecute\u001b[0m\u001b[1;33m(\u001b[0m\u001b[0mdriver_command\u001b[0m\u001b[1;33m,\u001b[0m \u001b[0mparams\u001b[0m\u001b[1;33m)\u001b[0m\u001b[1;33m\u001b[0m\u001b[1;33m\u001b[0m\u001b[0m\n\u001b[0m\u001b[0;32m    443\u001b[0m         \u001b[1;32mif\u001b[0m \u001b[0mresponse\u001b[0m\u001b[1;33m:\u001b[0m\u001b[1;33m\u001b[0m\u001b[1;33m\u001b[0m\u001b[0m\n\u001b[0;32m    444\u001b[0m             \u001b[0mself\u001b[0m\u001b[1;33m.\u001b[0m\u001b[0merror_handler\u001b[0m\u001b[1;33m.\u001b[0m\u001b[0mcheck_response\u001b[0m\u001b[1;33m(\u001b[0m\u001b[0mresponse\u001b[0m\u001b[1;33m)\u001b[0m\u001b[1;33m\u001b[0m\u001b[1;33m\u001b[0m\u001b[0m\n",
      "\u001b[1;32m~\\anaconda3\\lib\\site-packages\\selenium\\webdriver\\remote\\remote_connection.py\u001b[0m in \u001b[0;36mexecute\u001b[1;34m(self, command, params)\u001b[0m\n\u001b[0;32m    292\u001b[0m         \u001b[0mdata\u001b[0m \u001b[1;33m=\u001b[0m \u001b[0mutils\u001b[0m\u001b[1;33m.\u001b[0m\u001b[0mdump_json\u001b[0m\u001b[1;33m(\u001b[0m\u001b[0mparams\u001b[0m\u001b[1;33m)\u001b[0m\u001b[1;33m\u001b[0m\u001b[1;33m\u001b[0m\u001b[0m\n\u001b[0;32m    293\u001b[0m         \u001b[0murl\u001b[0m \u001b[1;33m=\u001b[0m \u001b[1;34mf\"{self._url}{path}\"\u001b[0m\u001b[1;33m\u001b[0m\u001b[1;33m\u001b[0m\u001b[0m\n\u001b[1;32m--> 294\u001b[1;33m         \u001b[1;32mreturn\u001b[0m \u001b[0mself\u001b[0m\u001b[1;33m.\u001b[0m\u001b[0m_request\u001b[0m\u001b[1;33m(\u001b[0m\u001b[0mcommand_info\u001b[0m\u001b[1;33m[\u001b[0m\u001b[1;36m0\u001b[0m\u001b[1;33m]\u001b[0m\u001b[1;33m,\u001b[0m \u001b[0murl\u001b[0m\u001b[1;33m,\u001b[0m \u001b[0mbody\u001b[0m\u001b[1;33m=\u001b[0m\u001b[0mdata\u001b[0m\u001b[1;33m)\u001b[0m\u001b[1;33m\u001b[0m\u001b[1;33m\u001b[0m\u001b[0m\n\u001b[0m\u001b[0;32m    295\u001b[0m \u001b[1;33m\u001b[0m\u001b[0m\n\u001b[0;32m    296\u001b[0m     \u001b[1;32mdef\u001b[0m \u001b[0m_request\u001b[0m\u001b[1;33m(\u001b[0m\u001b[0mself\u001b[0m\u001b[1;33m,\u001b[0m \u001b[0mmethod\u001b[0m\u001b[1;33m,\u001b[0m \u001b[0murl\u001b[0m\u001b[1;33m,\u001b[0m \u001b[0mbody\u001b[0m\u001b[1;33m=\u001b[0m\u001b[1;32mNone\u001b[0m\u001b[1;33m)\u001b[0m\u001b[1;33m:\u001b[0m\u001b[1;33m\u001b[0m\u001b[1;33m\u001b[0m\u001b[0m\n",
      "\u001b[1;32m~\\anaconda3\\lib\\site-packages\\selenium\\webdriver\\remote\\remote_connection.py\u001b[0m in \u001b[0;36m_request\u001b[1;34m(self, method, url, body)\u001b[0m\n\u001b[0;32m    314\u001b[0m \u001b[1;33m\u001b[0m\u001b[0m\n\u001b[0;32m    315\u001b[0m         \u001b[1;32mif\u001b[0m \u001b[0mself\u001b[0m\u001b[1;33m.\u001b[0m\u001b[0mkeep_alive\u001b[0m\u001b[1;33m:\u001b[0m\u001b[1;33m\u001b[0m\u001b[1;33m\u001b[0m\u001b[0m\n\u001b[1;32m--> 316\u001b[1;33m             \u001b[0mresponse\u001b[0m \u001b[1;33m=\u001b[0m \u001b[0mself\u001b[0m\u001b[1;33m.\u001b[0m\u001b[0m_conn\u001b[0m\u001b[1;33m.\u001b[0m\u001b[0mrequest\u001b[0m\u001b[1;33m(\u001b[0m\u001b[0mmethod\u001b[0m\u001b[1;33m,\u001b[0m \u001b[0murl\u001b[0m\u001b[1;33m,\u001b[0m \u001b[0mbody\u001b[0m\u001b[1;33m=\u001b[0m\u001b[0mbody\u001b[0m\u001b[1;33m,\u001b[0m \u001b[0mheaders\u001b[0m\u001b[1;33m=\u001b[0m\u001b[0mheaders\u001b[0m\u001b[1;33m)\u001b[0m\u001b[1;33m\u001b[0m\u001b[1;33m\u001b[0m\u001b[0m\n\u001b[0m\u001b[0;32m    317\u001b[0m             \u001b[0mstatuscode\u001b[0m \u001b[1;33m=\u001b[0m \u001b[0mresponse\u001b[0m\u001b[1;33m.\u001b[0m\u001b[0mstatus\u001b[0m\u001b[1;33m\u001b[0m\u001b[1;33m\u001b[0m\u001b[0m\n\u001b[0;32m    318\u001b[0m         \u001b[1;32melse\u001b[0m\u001b[1;33m:\u001b[0m\u001b[1;33m\u001b[0m\u001b[1;33m\u001b[0m\u001b[0m\n",
      "\u001b[1;32m~\\anaconda3\\lib\\site-packages\\urllib3\\request.py\u001b[0m in \u001b[0;36mrequest\u001b[1;34m(self, method, url, fields, headers, **urlopen_kw)\u001b[0m\n\u001b[0;32m     76\u001b[0m             )\n\u001b[0;32m     77\u001b[0m         \u001b[1;32melse\u001b[0m\u001b[1;33m:\u001b[0m\u001b[1;33m\u001b[0m\u001b[1;33m\u001b[0m\u001b[0m\n\u001b[1;32m---> 78\u001b[1;33m             return self.request_encode_body(\n\u001b[0m\u001b[0;32m     79\u001b[0m                 \u001b[0mmethod\u001b[0m\u001b[1;33m,\u001b[0m \u001b[0murl\u001b[0m\u001b[1;33m,\u001b[0m \u001b[0mfields\u001b[0m\u001b[1;33m=\u001b[0m\u001b[0mfields\u001b[0m\u001b[1;33m,\u001b[0m \u001b[0mheaders\u001b[0m\u001b[1;33m=\u001b[0m\u001b[0mheaders\u001b[0m\u001b[1;33m,\u001b[0m \u001b[1;33m**\u001b[0m\u001b[0murlopen_kw\u001b[0m\u001b[1;33m\u001b[0m\u001b[1;33m\u001b[0m\u001b[0m\n\u001b[0;32m     80\u001b[0m             )\n",
      "\u001b[1;32m~\\anaconda3\\lib\\site-packages\\urllib3\\request.py\u001b[0m in \u001b[0;36mrequest_encode_body\u001b[1;34m(self, method, url, fields, headers, encode_multipart, multipart_boundary, **urlopen_kw)\u001b[0m\n\u001b[0;32m    168\u001b[0m         \u001b[0mextra_kw\u001b[0m\u001b[1;33m.\u001b[0m\u001b[0mupdate\u001b[0m\u001b[1;33m(\u001b[0m\u001b[0murlopen_kw\u001b[0m\u001b[1;33m)\u001b[0m\u001b[1;33m\u001b[0m\u001b[1;33m\u001b[0m\u001b[0m\n\u001b[0;32m    169\u001b[0m \u001b[1;33m\u001b[0m\u001b[0m\n\u001b[1;32m--> 170\u001b[1;33m         \u001b[1;32mreturn\u001b[0m \u001b[0mself\u001b[0m\u001b[1;33m.\u001b[0m\u001b[0murlopen\u001b[0m\u001b[1;33m(\u001b[0m\u001b[0mmethod\u001b[0m\u001b[1;33m,\u001b[0m \u001b[0murl\u001b[0m\u001b[1;33m,\u001b[0m \u001b[1;33m**\u001b[0m\u001b[0mextra_kw\u001b[0m\u001b[1;33m)\u001b[0m\u001b[1;33m\u001b[0m\u001b[1;33m\u001b[0m\u001b[0m\n\u001b[0m",
      "\u001b[1;32m~\\anaconda3\\lib\\site-packages\\urllib3\\poolmanager.py\u001b[0m in \u001b[0;36murlopen\u001b[1;34m(self, method, url, redirect, **kw)\u001b[0m\n\u001b[0;32m    373\u001b[0m             \u001b[0mresponse\u001b[0m \u001b[1;33m=\u001b[0m \u001b[0mconn\u001b[0m\u001b[1;33m.\u001b[0m\u001b[0murlopen\u001b[0m\u001b[1;33m(\u001b[0m\u001b[0mmethod\u001b[0m\u001b[1;33m,\u001b[0m \u001b[0murl\u001b[0m\u001b[1;33m,\u001b[0m \u001b[1;33m**\u001b[0m\u001b[0mkw\u001b[0m\u001b[1;33m)\u001b[0m\u001b[1;33m\u001b[0m\u001b[1;33m\u001b[0m\u001b[0m\n\u001b[0;32m    374\u001b[0m         \u001b[1;32melse\u001b[0m\u001b[1;33m:\u001b[0m\u001b[1;33m\u001b[0m\u001b[1;33m\u001b[0m\u001b[0m\n\u001b[1;32m--> 375\u001b[1;33m             \u001b[0mresponse\u001b[0m \u001b[1;33m=\u001b[0m \u001b[0mconn\u001b[0m\u001b[1;33m.\u001b[0m\u001b[0murlopen\u001b[0m\u001b[1;33m(\u001b[0m\u001b[0mmethod\u001b[0m\u001b[1;33m,\u001b[0m \u001b[0mu\u001b[0m\u001b[1;33m.\u001b[0m\u001b[0mrequest_uri\u001b[0m\u001b[1;33m,\u001b[0m \u001b[1;33m**\u001b[0m\u001b[0mkw\u001b[0m\u001b[1;33m)\u001b[0m\u001b[1;33m\u001b[0m\u001b[1;33m\u001b[0m\u001b[0m\n\u001b[0m\u001b[0;32m    376\u001b[0m \u001b[1;33m\u001b[0m\u001b[0m\n\u001b[0;32m    377\u001b[0m         \u001b[0mredirect_location\u001b[0m \u001b[1;33m=\u001b[0m \u001b[0mredirect\u001b[0m \u001b[1;32mand\u001b[0m \u001b[0mresponse\u001b[0m\u001b[1;33m.\u001b[0m\u001b[0mget_redirect_location\u001b[0m\u001b[1;33m(\u001b[0m\u001b[1;33m)\u001b[0m\u001b[1;33m\u001b[0m\u001b[1;33m\u001b[0m\u001b[0m\n",
      "\u001b[1;32m~\\anaconda3\\lib\\site-packages\\urllib3\\connectionpool.py\u001b[0m in \u001b[0;36murlopen\u001b[1;34m(self, method, url, body, headers, retries, redirect, assert_same_host, timeout, pool_timeout, release_conn, chunked, body_pos, **response_kw)\u001b[0m\n\u001b[0;32m    686\u001b[0m             \u001b[1;31m# Request a connection from the queue.\u001b[0m\u001b[1;33m\u001b[0m\u001b[1;33m\u001b[0m\u001b[0m\n\u001b[0;32m    687\u001b[0m             \u001b[0mtimeout_obj\u001b[0m \u001b[1;33m=\u001b[0m \u001b[0mself\u001b[0m\u001b[1;33m.\u001b[0m\u001b[0m_get_timeout\u001b[0m\u001b[1;33m(\u001b[0m\u001b[0mtimeout\u001b[0m\u001b[1;33m)\u001b[0m\u001b[1;33m\u001b[0m\u001b[1;33m\u001b[0m\u001b[0m\n\u001b[1;32m--> 688\u001b[1;33m             \u001b[0mconn\u001b[0m \u001b[1;33m=\u001b[0m \u001b[0mself\u001b[0m\u001b[1;33m.\u001b[0m\u001b[0m_get_conn\u001b[0m\u001b[1;33m(\u001b[0m\u001b[0mtimeout\u001b[0m\u001b[1;33m=\u001b[0m\u001b[0mpool_timeout\u001b[0m\u001b[1;33m)\u001b[0m\u001b[1;33m\u001b[0m\u001b[1;33m\u001b[0m\u001b[0m\n\u001b[0m\u001b[0;32m    689\u001b[0m \u001b[1;33m\u001b[0m\u001b[0m\n\u001b[0;32m    690\u001b[0m             \u001b[0mconn\u001b[0m\u001b[1;33m.\u001b[0m\u001b[0mtimeout\u001b[0m \u001b[1;33m=\u001b[0m \u001b[0mtimeout_obj\u001b[0m\u001b[1;33m.\u001b[0m\u001b[0mconnect_timeout\u001b[0m\u001b[1;33m\u001b[0m\u001b[1;33m\u001b[0m\u001b[0m\n",
      "\u001b[1;32m~\\anaconda3\\lib\\site-packages\\urllib3\\connectionpool.py\u001b[0m in \u001b[0;36m_get_conn\u001b[1;34m(self, timeout)\u001b[0m\n\u001b[0;32m    269\u001b[0m \u001b[1;33m\u001b[0m\u001b[0m\n\u001b[0;32m    270\u001b[0m         \u001b[1;31m# If this is a persistent connection, check if it got disconnected\u001b[0m\u001b[1;33m\u001b[0m\u001b[1;33m\u001b[0m\u001b[0m\n\u001b[1;32m--> 271\u001b[1;33m         \u001b[1;32mif\u001b[0m \u001b[0mconn\u001b[0m \u001b[1;32mand\u001b[0m \u001b[0mis_connection_dropped\u001b[0m\u001b[1;33m(\u001b[0m\u001b[0mconn\u001b[0m\u001b[1;33m)\u001b[0m\u001b[1;33m:\u001b[0m\u001b[1;33m\u001b[0m\u001b[1;33m\u001b[0m\u001b[0m\n\u001b[0m\u001b[0;32m    272\u001b[0m             \u001b[0mlog\u001b[0m\u001b[1;33m.\u001b[0m\u001b[0mdebug\u001b[0m\u001b[1;33m(\u001b[0m\u001b[1;34m\"Resetting dropped connection: %s\"\u001b[0m\u001b[1;33m,\u001b[0m \u001b[0mself\u001b[0m\u001b[1;33m.\u001b[0m\u001b[0mhost\u001b[0m\u001b[1;33m)\u001b[0m\u001b[1;33m\u001b[0m\u001b[1;33m\u001b[0m\u001b[0m\n\u001b[0;32m    273\u001b[0m             \u001b[0mconn\u001b[0m\u001b[1;33m.\u001b[0m\u001b[0mclose\u001b[0m\u001b[1;33m(\u001b[0m\u001b[1;33m)\u001b[0m\u001b[1;33m\u001b[0m\u001b[1;33m\u001b[0m\u001b[0m\n",
      "\u001b[1;32m~\\anaconda3\\lib\\site-packages\\urllib3\\util\\connection.py\u001b[0m in \u001b[0;36mis_connection_dropped\u001b[1;34m(conn)\u001b[0m\n\u001b[0;32m     27\u001b[0m     \u001b[1;32mtry\u001b[0m\u001b[1;33m:\u001b[0m\u001b[1;33m\u001b[0m\u001b[1;33m\u001b[0m\u001b[0m\n\u001b[0;32m     28\u001b[0m         \u001b[1;31m# Returns True if readable, which here means it's been dropped\u001b[0m\u001b[1;33m\u001b[0m\u001b[1;33m\u001b[0m\u001b[0m\n\u001b[1;32m---> 29\u001b[1;33m         \u001b[1;32mreturn\u001b[0m \u001b[0mwait_for_read\u001b[0m\u001b[1;33m(\u001b[0m\u001b[0msock\u001b[0m\u001b[1;33m,\u001b[0m \u001b[0mtimeout\u001b[0m\u001b[1;33m=\u001b[0m\u001b[1;36m0.0\u001b[0m\u001b[1;33m)\u001b[0m\u001b[1;33m\u001b[0m\u001b[1;33m\u001b[0m\u001b[0m\n\u001b[0m\u001b[0;32m     30\u001b[0m     \u001b[1;32mexcept\u001b[0m \u001b[0mNoWayToWaitForSocketError\u001b[0m\u001b[1;33m:\u001b[0m  \u001b[1;31m# Platform-specific: AppEngine\u001b[0m\u001b[1;33m\u001b[0m\u001b[1;33m\u001b[0m\u001b[0m\n\u001b[0;32m     31\u001b[0m         \u001b[1;32mreturn\u001b[0m \u001b[1;32mFalse\u001b[0m\u001b[1;33m\u001b[0m\u001b[1;33m\u001b[0m\u001b[0m\n",
      "\u001b[1;32m~\\anaconda3\\lib\\site-packages\\urllib3\\util\\wait.py\u001b[0m in \u001b[0;36mwait_for_read\u001b[1;34m(sock, timeout)\u001b[0m\n\u001b[0;32m    144\u001b[0m     \u001b[0mReturns\u001b[0m \u001b[1;32mTrue\u001b[0m \u001b[1;32mif\u001b[0m \u001b[0mthe\u001b[0m \u001b[0msocket\u001b[0m \u001b[1;32mis\u001b[0m \u001b[0mreadable\u001b[0m\u001b[1;33m,\u001b[0m \u001b[1;32mor\u001b[0m \u001b[1;32mFalse\u001b[0m \u001b[1;32mif\u001b[0m \u001b[0mthe\u001b[0m \u001b[0mtimeout\u001b[0m \u001b[0mexpired\u001b[0m\u001b[1;33m.\u001b[0m\u001b[1;33m\u001b[0m\u001b[1;33m\u001b[0m\u001b[0m\n\u001b[0;32m    145\u001b[0m     \"\"\"\n\u001b[1;32m--> 146\u001b[1;33m     \u001b[1;32mreturn\u001b[0m \u001b[0mwait_for_socket\u001b[0m\u001b[1;33m(\u001b[0m\u001b[0msock\u001b[0m\u001b[1;33m,\u001b[0m \u001b[0mread\u001b[0m\u001b[1;33m=\u001b[0m\u001b[1;32mTrue\u001b[0m\u001b[1;33m,\u001b[0m \u001b[0mtimeout\u001b[0m\u001b[1;33m=\u001b[0m\u001b[0mtimeout\u001b[0m\u001b[1;33m)\u001b[0m\u001b[1;33m\u001b[0m\u001b[1;33m\u001b[0m\u001b[0m\n\u001b[0m\u001b[0;32m    147\u001b[0m \u001b[1;33m\u001b[0m\u001b[0m\n\u001b[0;32m    148\u001b[0m \u001b[1;33m\u001b[0m\u001b[0m\n",
      "\u001b[1;32m~\\anaconda3\\lib\\site-packages\\urllib3\\util\\wait.py\u001b[0m in \u001b[0;36mselect_wait_for_socket\u001b[1;34m(sock, read, write, timeout)\u001b[0m\n\u001b[0;32m     84\u001b[0m     \u001b[1;31m# thing.)\u001b[0m\u001b[1;33m\u001b[0m\u001b[1;33m\u001b[0m\u001b[0m\n\u001b[0;32m     85\u001b[0m     \u001b[0mfn\u001b[0m \u001b[1;33m=\u001b[0m \u001b[0mpartial\u001b[0m\u001b[1;33m(\u001b[0m\u001b[0mselect\u001b[0m\u001b[1;33m.\u001b[0m\u001b[0mselect\u001b[0m\u001b[1;33m,\u001b[0m \u001b[0mrcheck\u001b[0m\u001b[1;33m,\u001b[0m \u001b[0mwcheck\u001b[0m\u001b[1;33m,\u001b[0m \u001b[0mwcheck\u001b[0m\u001b[1;33m)\u001b[0m\u001b[1;33m\u001b[0m\u001b[1;33m\u001b[0m\u001b[0m\n\u001b[1;32m---> 86\u001b[1;33m     \u001b[0mrready\u001b[0m\u001b[1;33m,\u001b[0m \u001b[0mwready\u001b[0m\u001b[1;33m,\u001b[0m \u001b[0mxready\u001b[0m \u001b[1;33m=\u001b[0m \u001b[0m_retry_on_intr\u001b[0m\u001b[1;33m(\u001b[0m\u001b[0mfn\u001b[0m\u001b[1;33m,\u001b[0m \u001b[0mtimeout\u001b[0m\u001b[1;33m)\u001b[0m\u001b[1;33m\u001b[0m\u001b[1;33m\u001b[0m\u001b[0m\n\u001b[0m\u001b[0;32m     87\u001b[0m     \u001b[1;32mreturn\u001b[0m \u001b[0mbool\u001b[0m\u001b[1;33m(\u001b[0m\u001b[0mrready\u001b[0m \u001b[1;32mor\u001b[0m \u001b[0mwready\u001b[0m \u001b[1;32mor\u001b[0m \u001b[0mxready\u001b[0m\u001b[1;33m)\u001b[0m\u001b[1;33m\u001b[0m\u001b[1;33m\u001b[0m\u001b[0m\n\u001b[0;32m     88\u001b[0m \u001b[1;33m\u001b[0m\u001b[0m\n",
      "\u001b[1;32m~\\anaconda3\\lib\\site-packages\\urllib3\\util\\wait.py\u001b[0m in \u001b[0;36m_retry_on_intr\u001b[1;34m(fn, timeout)\u001b[0m\n\u001b[0;32m     41\u001b[0m     \u001b[1;31m# Modern Python, that retries syscalls by default\u001b[0m\u001b[1;33m\u001b[0m\u001b[1;33m\u001b[0m\u001b[0m\n\u001b[0;32m     42\u001b[0m     \u001b[1;32mdef\u001b[0m \u001b[0m_retry_on_intr\u001b[0m\u001b[1;33m(\u001b[0m\u001b[0mfn\u001b[0m\u001b[1;33m,\u001b[0m \u001b[0mtimeout\u001b[0m\u001b[1;33m)\u001b[0m\u001b[1;33m:\u001b[0m\u001b[1;33m\u001b[0m\u001b[1;33m\u001b[0m\u001b[0m\n\u001b[1;32m---> 43\u001b[1;33m         \u001b[1;32mreturn\u001b[0m \u001b[0mfn\u001b[0m\u001b[1;33m(\u001b[0m\u001b[0mtimeout\u001b[0m\u001b[1;33m)\u001b[0m\u001b[1;33m\u001b[0m\u001b[1;33m\u001b[0m\u001b[0m\n\u001b[0m\u001b[0;32m     44\u001b[0m \u001b[1;33m\u001b[0m\u001b[0m\n\u001b[0;32m     45\u001b[0m \u001b[1;33m\u001b[0m\u001b[0m\n",
      "\u001b[1;31mKeyboardInterrupt\u001b[0m: "
     ]
    }
   ],
   "source": [
    "productInfo = []\n",
    "for p in products[:10]:\n",
    "    y = lvl2[p]\n",
    "    for x in y:\n",
    "        nm = x[0]\n",
    "        lk = x[1]\n",
    "        driver.get(lk)\n",
    "        try:\n",
    "            s = driver.find_element(By.CLASS_NAME,'product-quantity').text\n",
    "            s = s.split('Products')[0]\n",
    "            s = int(s.strip())\n",
    "            s = int(s/15) + 2\n",
    "        except:\n",
    "            s = 10\n",
    "        for _ in range(0, s):\n",
    "            driver.execute_script(\"window.scrollTo(0, 50000);\")\n",
    "            time.sleep(2)\n",
    "        pinfo = driver.find_elements(By.CLASS_NAME, \"productInfo\")\n",
    "        pinfo = [t.text for t in pinfo]\n",
    "        pinfo = [t.split('\\n') for t in pinfo]\n",
    "        pphoto = driver.find_elements(By.XPATH, \"//*/div[@class='productTitle']/a/e2-product-thumbnail/e2-media/img\")\n",
    "        pphoto = [t.get_attribute('src') for t in pphoto]\n",
    "        S = list(zip(pinfo,pphoto))\n",
    "        SS = [(*x,y) for x,y in S]\n",
    "        productInfo.extend(SS)\n",
    "        time.sleep(5)"
   ]
  },
  {
   "cell_type": "code",
   "execution_count": 52,
   "id": "d9dc14f9",
   "metadata": {},
   "outputs": [
    {
     "data": {
      "text/plain": [
       "[('WATSONS DISTILLED WATER',\n",
       "  '430ML',\n",
       "  '$5.00',\n",
       "  'https://api.parknshop.com/medias/DISTILLED-WATER-BP-152058.jpg?context=bWFzdGVyfHBuc2hrL2ltYWdlc3w5NjY3NXxpbWFnZS9qcGVnfGgxYi9oYWIvOTMzNjc2NzY3NjQ0Ni9ESVNUSUxMRUQgV0FURVItQlBfMTUyMDU4LmpwZ3wyOGI1ZDgxMWRjZmRhYTZlNTEwZDU1ZTNjNjQyMGJiYTllMzljZTkyODA0YTk2OTJlMzhiYjk2NWJiZjI0OGM0'),\n",
       " ('WATSONS DISTILLED WATER',\n",
       "  '1.25L',\n",
       "  '$10.00',\n",
       "  'https://api.parknshop.com/medias/DISTILLED-WATER-BP-155446.jpg?context=bWFzdGVyfHBuc2hrL2ltYWdlc3w5MjY4OXxpbWFnZS9qcGVnfGhlZC9oZmMvOTMzNjg1NzQ2MDc2Ni9ESVNUSUxMRUQgV0FURVItQlBfMTU1NDQ2LmpwZ3xlM2U4NzZiMjEwMjU5MTZlNDQ1ZGRjNmYxYjIyZDFjMDMzYzljYjM3MTcyZDIyMDlmYjVjMTg0MWU3MTE5MmUz'),\n",
       " ('WATSONS DISTILLED WATER',\n",
       "  '1.8L',\n",
       "  '$9.90',\n",
       "  '$12.00',\n",
       "  'https://api.parknshop.com/medias/DISTILLED-WATER-BP-120420.jpg?context=bWFzdGVyfHBuc2hrL2ltYWdlc3w5NjQ1MHxpbWFnZS9qcGVnfGgxYi9oMmUvOTMzNjg5NzA0NDUxMC9ESVNUSUxMRUQgV0FURVItQlBfMTIwNDIwLmpwZ3w0ZmRhMTQ1Y2RjOWNjNWZmMDgyN2NmYWFhN2VlZjE3NjgzM2Y4OTFjNzcwMzA4N2EyMzY5MGQzN2Q0YmI0OWRj'),\n",
       " ('WATSONS DISTILLED WATER WITH MINERALS',\n",
       "  '430ML',\n",
       "  '$5.00',\n",
       "  'https://api.parknshop.com/medias/DISTILLED-WATER-WITH-MINERALS-BP-169314.jpg?context=bWFzdGVyfHBuc2hrL2ltYWdlc3w5Njk1MXxpbWFnZS9qcGVnfGgxOS9oZjIvOTMzNjc3MTI0ODE1OC9ESVNUSUxMRUQgV0FURVIgV0lUSCBNSU5FUkFMUy1CUF8xNjkzMTQuanBnfDQ1ZTA0YzdiNTdiZDcyYWJkM2RmZDljZjJmYjM5YTE1OTY0MDk4ZjI0OGJhODQ3NWVlNGE4NDg5ZWMyODU3ZDE'),\n",
       " ('$10.9 / 2pcs',\n",
       "  'WATSONS MINERALISED WATER',\n",
       "  '800ML',\n",
       "  '$6.50',\n",
       "  'https://api.parknshop.com/medias/MINERALISED-WATER-BP-169315.jpg?context=bWFzdGVyfHBuc2hrL2ltYWdlc3w5NzAxNXxpbWFnZS9qcGVnfGhhYS9oYzMvOTMzNjM4MDY1MzU5OC9NSU5FUkFMSVNFRCBXQVRFUi1CUF8xNjkzMTUuanBnfGEwYTg2NmRkYWRlNmRlZTE0ZjM4NTA4MGIxNDNjYmMxNzY4ZTE1MWMxYTkxYWI2YzBjZWM5YmFjYTFiZGYwMTk'),\n",
       " ('WATSONS MINERALIZED WATER 6S',\n",
       "  '430MLx6',\n",
       "  '$21.90',\n",
       "  'https://api.parknshop.com/medias/MINERALS-WATER-VALUE-PACK-BP-372693.jpg?context=bWFzdGVyfHBuc2hrL2ltYWdlc3w0NjQ4MXxpbWFnZS9qcGVnfGg3Ni9oMzYvOTMzNjQzMTE4MTg1NC9NSU5FUkFMUyBXQVRFUiBWQUxVRSBQQUNLLUJQXzM3MjY5My5qcGd8MDZhMzcwYjA5OWE1NzNmNGNhN2RmZjU1NzgyNzg5ZWM4NjI2MjdhOTMyZWE5MDg2YjY3MjlmMTg1NzNiYzFlNg'),\n",
       " ('$120 / 6pcs',\n",
       "  'WATSONS MINERALIZED WATER',\n",
       "  '4.5L',\n",
       "  '$22.90',\n",
       "  'https://api.parknshop.com/medias/WATSONS-MINERALIZED-WATER-45L-BP-140380.jpg?context=bWFzdGVyfHBuc2hrL2ltYWdlc3wxMDA2MTR8aW1hZ2UvanBlZ3xoMTkvaDhjLzkzMzY2NzA4MTQyMzgvV0FUU09OUyBNSU5FUkFMSVpFRCBXQVRFUiA0NUwtQlBfMTQwMzgwLmpwZ3w3Nzk1YWZkMDUwYWVjMDE3NTk1MTcxZTBmNDcyNWRmZDM2ODE2Yzc4NjZkNGRlMDJkNDU2MmQ2MzRiOGJhZDU5'),\n",
       " ('Promotion',\n",
       "  'WATSONS ALKALINE WATER 9.0',\n",
       "  '1.2L',\n",
       "  '$13.90',\n",
       "  'https://api.parknshop.com/medias/cat-front-BP-421986.jpg?context=bWFzdGVyfHBuc2hrL2ltYWdlc3wxMDk4Nzd8aW1hZ2UvanBlZ3xoM2YvaDUzLzk1ODYzOTcwNTI5NTgvUE5TSEstQlBfNDIxOTg2LWZyb250LmpwZ3w2YjRkNjdlNTI0OGNmNmFjYjMxZWRiMjQ5NDE5ODRiMzViODc2NzI2OTRiZWNiOTZkNDc5OWMxMGM2ZThmM2Rl'),\n",
       " ('WATSONS ALKALINE WATER 9.0',\n",
       "  '420ML',\n",
       "  '$7.50',\n",
       "  '$10.90',\n",
       "  'https://api.parknshop.com/medias/cat-front-BP-499585.jpg?context=bWFzdGVyfHBuc2hrL2ltYWdlc3wxMTQ3Nzl8aW1hZ2UvanBlZ3xoZDgvaGE1Lzk1ODY0MTMxNzQ4MTQvUE5TSEstQlBfNDk5NTg1LWZyb250LmpwZ3xiMjRjN2MwZjNlZmEyZWM2NDllNWVlOWVmOTc5YmNjOGNhNjhkY2M1ZmZiOTA1ZjY2NTFhMGJlYmJjMjJhODM5'),\n",
       " ('WATSONS MINERALISED WATER',\n",
       "  '1.25L',\n",
       "  '$10.00',\n",
       "  'https://api.parknshop.com/medias/MINERALISED-WATER-BP-307927.jpg?context=bWFzdGVyfHBuc2hrL2ltYWdlc3w5MjQ4MXxpbWFnZS9qcGVnfGgzNC9oZjMvOTMzNjUyNzIyNDg2Mi9NSU5FUkFMSVNFRCBXQVRFUi1CUF8zMDc5MjcuanBnfDY5ZDg2ODczNzdlZDg5Y2Y5YjUzYWNlYzUwMDFmZDRkYWJjMDBiYWE3MGUwMDY3ZjMwODRmMmFlNzU4MTJlYzE')]"
      ]
     },
     "execution_count": 52,
     "metadata": {},
     "output_type": "execute_result"
    }
   ],
   "source": [
    "productInfo[:10]"
   ]
  },
  {
   "cell_type": "code",
   "execution_count": 53,
   "id": "8976dcbb",
   "metadata": {},
   "outputs": [
    {
     "data": {
      "text/plain": [
       "[('Promotion',\n",
       "  'CESAR JAP BEEF CHICK & VEG (CASE)',\n",
       "  '24X100G',\n",
       "  '$203.00',\n",
       "  'https://api.parknshop.com/medias/JAP-BEEF-CHICK-VEG-CASE-BP-417511.jpg?context=bWFzdGVyfHBuc2hrL2ltYWdlc3wzMjk5MHxpbWFnZS9qcGVnfGhlZi9oYTEvOTM0MDc3MTA3NDA3OC9KQVAgQkVFRiBDSElDSyAgVkVHIENBU0UtQlBfNDE3NTExLmpwZ3w3NGFkZjYyMTdkMjg5YjhkMzk4ODEyNTE3MTAzZWU5YzgyNGQ3N2QzNTQ1MmU1ZjAyMjVlMTcyM2FlMjBjYzk1'),\n",
       " ('Promotion',\n",
       "  'CESAR JAP CESAR BEEF & CHEESE (CASE)',\n",
       "  '24X100G',\n",
       "  '$203.00',\n",
       "  'https://api.parknshop.com/medias/JAP-CESAR-BEEF-CHEESE-CASE-BP-417514.jpg?context=bWFzdGVyfHBuc2hrL2ltYWdlc3wzMjUzNnxpbWFnZS9qcGVnfGg2OS9oNTkvOTM0MDg2OTUwOTE1MC9KQVAgQ0VTQVIgQkVFRiAgQ0hFRVNFIENBU0UtQlBfNDE3NTE0LmpwZ3xjMWM1ZWQ0Y2Q3YTIwNThkNzRmNmNkNTRlMjUwMmYzZjdlNmM4YWJkNjBkYWNkZWNhYjQ2ZDIyYWM5MmY2NDQ2'),\n",
       " ('Promotion',\n",
       "  'CESAR LAMB W/ROSEMARY&BROCCOLI (CAS',\n",
       "  '24X100G',\n",
       "  '$203.00',\n",
       "  'https://api.parknshop.com/medias/LAMB-WROSEMARYBROCCOLI-CASE-BP-417517.jpg?context=bWFzdGVyfHBuc2hrL2ltYWdlc3wzMjcyMXxpbWFnZS9qcGVnfGgyYi9oMTMvOTM0MDg2ODQ2MDU3NC9MQU1CIFdST1NFTUFSWUJST0NDT0xJIENBU0UtQlBfNDE3NTE3LmpwZ3wxNjg5YWJkNTk5ZWVkZWU4ZmM2OTFkMzMwYmZjOWZiOTk2YTIzNDQxOTVmY2RkNWE1YTY3ODM1YmUyNGZlMjA4'),\n",
       " ('Promotion',\n",
       "  'CESAR TERRINE OF BEEF W/CHZ BAL (CAS',\n",
       "  '24X100G',\n",
       "  '$203.00',\n",
       "  'https://api.parknshop.com/medias/TERRINE-OF-BEEF-WCHZ-BAL-CASE-BP-417519.jpg?context=bWFzdGVyfHBuc2hrL2ltYWdlc3wzMjY3NHxpbWFnZS9qcGVnfGg3My9oNDgvOTM0MDg2OTAxNzYzMC9URVJSSU5FIE9GIEJFRUYgV0NIWiBCQUwgIENBU0UtQlBfNDE3NTE5LmpwZ3wxNTI2Mzc0MDk4ZDllZDg1NTMyZjY0N2NjYzBhMTJjYWViNWZjZDhhMjZmZWQzMWNjMTgzNDU3Nzc3ZTQ5NWYy'),\n",
       " ('Promotion',\n",
       "  'CESAR LAMB WITH VEGETABLES (CAS',\n",
       "  '24X100G',\n",
       "  '$203.00',\n",
       "  'https://api.parknshop.com/medias/LAMB-WITH-VEGETABLES-CASE-BP-417516.jpg?context=bWFzdGVyfHBuc2hrL2ltYWdlc3wzMjYxMXxpbWFnZS9qcGVnfGgwMy9oNTMvOTM0MDg2OTM0NTMxMC9MQU1CIFdJVEggVkVHRVRBQkxFUyBDQVNFLUJQXzQxNzUxNi5qcGd8MDAzOTZkMDdhZTEwOGY0MmYwNmZlZWEwNWIxMDFjNjM3ZTdjMzc5OGQzNTQ2OTM0Njc5Yzg2Nzk3Mzc4YzUzZg'),\n",
       " ('Promotion',\n",
       "  'CESAR JAP WHITEFISH WITH VEG (CASE)',\n",
       "  '24X100G',\n",
       "  '$203.00',\n",
       "  'https://api.parknshop.com/medias/JAP-WHITEFISH-WITH-VEG-CASE-BP-417513.jpg?context=bWFzdGVyfHBuc2hrL2ltYWdlc3wzMjgxNXxpbWFnZS9qcGVnfGg0NC9oNGYvOTM0MDg2OTIxNDIzOC9KQVAgV0hJVEVGSVNIIFdJVEggVkVHIENBU0UtQlBfNDE3NTEzLmpwZ3w5ZDkwZWIwYjAwMDNmMjA2MWI2ZGU0MDY3NzY5OThiYzE4MzY5MDYwNDRiOWNmZmNmNDI3NzZjYTc4MTdmYWYy'),\n",
       " ('MON PETIT GOLD CAT GOLD TUNA & WHITEBAIT (CASE)',\n",
       "  '24X85G',\n",
       "  '$228.00',\n",
       "  'https://api.parknshop.com/medias/CAT-GOLD-TUNA-WHITEBAIT-CASE-BP-391271.jpg?context=bWFzdGVyfHBuc2hrL2ltYWdlc3wyNzI2NHxpbWFnZS9qcGVnfGg2MC9oMGQvOTMzOTc4NzExNjU3NC9DQVQgR09MRCBUVU5BICBXSElURUJBSVQgQ0FTRS1CUF8zOTEyNzEuanBnfDBmYjJmYTMyY2JjMjYyMjBkOTVkM2NiNDRjOThjNDdhODg2MmQ2Mzg4NTIzMzE2NGFhNzg0NzlkMDA4MjU4MWY'),\n",
       " ('$480 / 2pcs',\n",
       "  'N1 NATUREL CORN SOYA CAT LITTER TOFU(CASE)',\n",
       "  '3X17.5L',\n",
       "  '$300.00',\n",
       "  'https://api.parknshop.com/medias/cat-front-BP-390999.jpg?context=bWFzdGVyfHBuc2hrL2ltYWdlc3w5Mzg2OXxpbWFnZS9qcGVnfGhjNC9oZTAvOTYwNjI4NzEzMDY1NC9QTlNISy1CUF8zOTA5OTktZnJvbnQuanBnfDQ2NGY2MzhkYzhmNjJjMTIxMmYwMWRiOTU3ZDQ4MDNmNDQzYmEwMzEyZWZlY2YxYWNmNzVkYTllNTY1ZWQ0NTg'),\n",
       " ('$480 / 2pcs',\n",
       "  'N1 NATUREL CORN SOYA CAT LITTER GREEN TEA(CASE)',\n",
       "  '3X17.5L',\n",
       "  '$300.00',\n",
       "  'https://api.parknshop.com/medias/CORN-SOYA-CAT-LITTER-GREEN-TEACASE-BP-390998.jpg?context=bWFzdGVyfHBuc2hrL2ltYWdlc3wxNjAzNDh8aW1hZ2UvanBlZ3xoZDYvaDI4LzkzMzk4MTM2NTg2NTQvQ09STiBTT1lBIENBVCBMSVRURVIgR1JFRU4gVEVBQ0FTRS1CUF8zOTA5OTguanBnfGM2ODJkZTNjMDU0OWIwNmY1Nzg2ZTZmMmI5Mzg4ZmMxMzI0NzQyN2Y0YTAyYzcxNWY5OGM4ZmVlMGNiM2Y4Yjg'),\n",
       " ('N1 NATUREL 2.0CORN SOYA CAT LITTER TOFU(CASE)',\n",
       "  '3X17.5L',\n",
       "  '$300.00',\n",
       "  'https://api.parknshop.com/medias/cat-front-BP-423149.jpg?context=bWFzdGVyfHBuc2hrL2ltYWdlc3w5MzY5OHxpbWFnZS9qcGVnfGg0Ni9oNmMvOTYwNjI4ODQ3NDE0Mi9QTlNISy1CUF80MjMxNDktZnJvbnQuanBnfDkxYzg5MGFhNzgyZGFhMmI4MzA4Y2Q5ODI1YmM2NGE5YWRjZWE1MTRkMTdiNjQyMTRiNmRhYzM1YWFhY2E1ZWQ')]"
      ]
     },
     "execution_count": 53,
     "metadata": {},
     "output_type": "execute_result"
    }
   ],
   "source": [
    "productInfo[-10:]"
   ]
  },
  {
   "cell_type": "code",
   "execution_count": 54,
   "id": "90b0eb57",
   "metadata": {},
   "outputs": [
    {
     "data": {
      "image/png": "[encoded data removed]",
      "text/plain": [
       "<PIL.Image.Image image mode=RGB size=100x100 at 0x14FA0B77850>"
      ]
     },
     "execution_count": 54,
     "metadata": {},
     "output_type": "execute_result"
    }
   ],
   "source": [
    "display_an_image(productInfo[-10][-1])"
   ]
  },
  {
   "cell_type": "code",
   "execution_count": 55,
   "id": "11c69d17",
   "metadata": {},
   "outputs": [],
   "source": [
    "def processing_a_rec(a_rec):\n",
    "    photo = a_rec[-1]\n",
    "    if a_rec[-3][0]=='$':\n",
    "        discount_price = a_rec[-3]\n",
    "        unit_price = a_rec[-2]\n",
    "        ri = 3\n",
    "    else:\n",
    "        unit_price = a_rec[-2]\n",
    "        discount_price = ''\n",
    "        ri = 2\n",
    "    unit = a_rec[-(ri+1)]\n",
    "    item = a_rec[-(ri+2)]\n",
    "    if len(a_rec) > ri+2:\n",
    "        if a_rec[-(ri+3)][0] == '$':\n",
    "            bulk_price = a_rec[-(ri+3)]\n",
    "        else:\n",
    "            bulk_price = ''\n",
    "    else:\n",
    "        bulk_price = ''\n",
    "    return item, unit, unit_price, discount_price, bulk_price, photo"
   ]
  },
  {
   "cell_type": "code",
   "execution_count": 56,
   "id": "94798382",
   "metadata": {},
   "outputs": [],
   "source": [
    "items_df = []\n",
    "for a_rec in productInfo:\n",
    "    items_df.append(processing_a_rec(a_rec))"
   ]
  },
  {
   "cell_type": "code",
   "execution_count": 57,
   "id": "2dbc17f4",
   "metadata": {},
   "outputs": [],
   "source": [
    "items_df = pd.DataFrame(items_df)\n",
    "items_df.columns = ['item', 'unit', 'unit_price', 'discount_price', 'bulk_price', 'photo_src']"
   ]
  },
  {
   "cell_type": "code",
   "execution_count": 58,
   "id": "d7a8fccf",
   "metadata": {},
   "outputs": [
    {
     "data": {
      "text/html": [
       "<div>\n",
       "<style scoped>\n",
       "    .dataframe tbody tr th:only-of-type {\n",
       "        vertical-align: middle;\n",
       "    }\n",
       "\n",
       "    .dataframe tbody tr th {\n",
       "        vertical-align: top;\n",
       "    }\n",
       "\n",
       "    .dataframe thead th {\n",
       "        text-align: right;\n",
       "    }\n",
       "</style>\n",
       "<table border=\"1\" class=\"dataframe\">\n",
       "  <thead>\n",
       "    <tr style=\"text-align: right;\">\n",
       "      <th></th>\n",
       "      <th>item</th>\n",
       "      <th>unit</th>\n",
       "      <th>unit_price</th>\n",
       "      <th>discount_price</th>\n",
       "      <th>bulk_price</th>\n",
       "      <th>photo_src</th>\n",
       "    </tr>\n",
       "  </thead>\n",
       "  <tbody>\n",
       "    <tr>\n",
       "      <th>14656</th>\n",
       "      <td>CESAR JAP WHITEFISH WITH V...</td>\n",
       "      <td>24X100G</td>\n",
       "      <td>$203.00</td>\n",
       "      <td></td>\n",
       "      <td></td>\n",
       "      <td>https://api.parknshop.com/...</td>\n",
       "    </tr>\n",
       "    <tr>\n",
       "      <th>14657</th>\n",
       "      <td>MON PETIT GOLD CAT GOLD TU...</td>\n",
       "      <td>24X85G</td>\n",
       "      <td>$228.00</td>\n",
       "      <td></td>\n",
       "      <td></td>\n",
       "      <td>https://api.parknshop.com/...</td>\n",
       "    </tr>\n",
       "    <tr>\n",
       "      <th>14658</th>\n",
       "      <td>N1 NATUREL CORN SOYA CAT L...</td>\n",
       "      <td>3X17.5L</td>\n",
       "      <td>$300.00</td>\n",
       "      <td></td>\n",
       "      <td>$480 / 2pcs</td>\n",
       "      <td>https://api.parknshop.com/...</td>\n",
       "    </tr>\n",
       "    <tr>\n",
       "      <th>14659</th>\n",
       "      <td>N1 NATUREL CORN SOYA CAT L...</td>\n",
       "      <td>3X17.5L</td>\n",
       "      <td>$300.00</td>\n",
       "      <td></td>\n",
       "      <td>$480 / 2pcs</td>\n",
       "      <td>https://api.parknshop.com/...</td>\n",
       "    </tr>\n",
       "    <tr>\n",
       "      <th>14660</th>\n",
       "      <td>N1 NATUREL 2.0CORN SOYA CA...</td>\n",
       "      <td>3X17.5L</td>\n",
       "      <td>$300.00</td>\n",
       "      <td></td>\n",
       "      <td></td>\n",
       "      <td>https://api.parknshop.com/...</td>\n",
       "    </tr>\n",
       "  </tbody>\n",
       "</table>\n",
       "</div>"
      ],
      "text/plain": [
       "                                item     unit unit_price discount_price  \\\n",
       "14656  CESAR JAP WHITEFISH WITH V...  24X100G    $203.00                  \n",
       "14657  MON PETIT GOLD CAT GOLD TU...   24X85G    $228.00                  \n",
       "14658  N1 NATUREL CORN SOYA CAT L...  3X17.5L    $300.00                  \n",
       "14659  N1 NATUREL CORN SOYA CAT L...  3X17.5L    $300.00                  \n",
       "14660  N1 NATUREL 2.0CORN SOYA CA...  3X17.5L    $300.00                  \n",
       "\n",
       "        bulk_price                      photo_src  \n",
       "14656               https://api.parknshop.com/...  \n",
       "14657               https://api.parknshop.com/...  \n",
       "14658  $480 / 2pcs  https://api.parknshop.com/...  \n",
       "14659  $480 / 2pcs  https://api.parknshop.com/...  \n",
       "14660               https://api.parknshop.com/...  "
      ]
     },
     "execution_count": 58,
     "metadata": {},
     "output_type": "execute_result"
    }
   ],
   "source": [
    "items_df.tail()"
   ]
  },
  {
   "cell_type": "code",
   "execution_count": 32,
   "id": "8dc85425",
   "metadata": {},
   "outputs": [
    {
     "name": "stdout",
     "output_type": "stream",
     "text": [
      "D:\\RMSC5002\\Selenium\n"
     ]
    }
   ],
   "source": [
    "cd D:\\RMSC5002\\Selenium"
   ]
  },
  {
   "cell_type": "code",
   "execution_count": null,
   "id": "8be5096f",
   "metadata": {},
   "outputs": [],
   "source": [
    "pickle.dump(items_df,open('Park_n_Shop_Items_df.obj','wb'))"
   ]
  },
  {
   "cell_type": "code",
   "execution_count": 26,
   "id": "fbb14137",
   "metadata": {},
   "outputs": [],
   "source": [
    "items_df = pickle.load(open('Park_n_Shop_Items_df.obj','rb'))"
   ]
  },
  {
   "cell_type": "code",
   "execution_count": 27,
   "id": "6c8b1db6",
   "metadata": {},
   "outputs": [
    {
     "data": {
      "text/plain": [
       "['https://api.parknshop.com/medias/COLL-MF-FOAM-CLEANSER-BP-256744.jpg?context=bWFzdGVyfHBuc2hrL2ltYWdlc3wxNzQxN3xpbWFnZS9qcGVnfGg2Mi9oMGMvOTM0MTQ0NDY4NTg1NC9DT0xMIE1GIEZPQU0gQ0xFQU5TRVItQlBfMjU2NzQ0LmpwZ3wwY2RjOTMyYjc2NWYwMzU3YTNmMTlmYWJhMTAwYmQ0YmI5MzE3MmNhZWYyNzkxMTg0NjYzZTRjNzVmMjY5MDVl',\n",
       " 'https://api.parknshop.com/medias/WHITE-REG-REFRESHING-CLEANSER-BP-804333.jpg?context=bWFzdGVyfHBuc2hrL2ltYWdlc3w3MDAxfGltYWdlL2pwZWd8aDI4L2g2OS85MzQxNDc0ODMyNDE0L1dISVRFIFJFRyBSRUZSRVNISU5HIENMRUFOU0VSIC1CUF84MDQzMzMuanBnfDFiYmJlY2FlMWM2ODU0ZThjMDczOTZkMDM1NjI1NmU5ZjA3YTljZWU2YTM1NThlNjg3ZmUxMzcxODc5MTNiMGE',\n",
       " 'https://api.parknshop.com/medias/DEEP-CLEAN-GENTLE-SCRUB-BP-152834.jpg?context=bWFzdGVyfHBuc2hrL2ltYWdlc3wzMzkyOHxpbWFnZS9qcGVnfGhhNy9oOTkvOTMzNjc2MjYzMDE3NC9ERUVQIENMRUFOIEdFTlRMRSBTQ1JVQi1CUF8xNTI4MzQuanBnfDI1Y2NlOTY3NjMyNWY5ZjQ1Yzg3ODJmMGQzOTgxMTUzZGNhNWFmOGViYzQ4YzU4Mjc5ODc2NzQ2ZGQ0Y2EzNjU',\n",
       " 'https://api.parknshop.com/medias/DEEP-CLEAN-FACIAL-CLEANSER-BP-141535.jpg?context=bWFzdGVyfHBuc2hrL2ltYWdlc3wyNjIxMXxpbWFnZS9qcGVnfGg1NC9oNmEvOTMzNjM5Mjc0NDk5MC9ERUVQIENMRUFOIEZBQ0lBTCBDTEVBTlNFUi1CUF8xNDE1MzUuanBnfGY4OGQ5MWY4NGJjMWE2Y2RiNjRlZDIwNTljZjE2ZDVhMjU0ODcyMTIwOWExNTQ3ZDQwMmM3ZWQ4ODg5NmVkNTE',\n",
       " 'https://api.parknshop.com/medias/Biore-Facial-Foam-Mild-100g-BP-477788.jpg?context=bWFzdGVyfHBuc2hrL2ltYWdlc3wxNzg1MXxpbWFnZS9qcGVnfGg4Ni9oZDAvOTMzODk4OTE4MzAwNi9CaW9yZSBGYWNpYWwgRm9hbSBNaWxkIDEwMGctQlBfNDc3Nzg4LmpwZ3xhNzk0YjllYWE3NTQ0ZjkwNzAyOTI4NDYxMzc1YWRlNjNmOTA4YWFjMmViYmU1YWU5NjNmMGQwYjE4NzAxOWJm',\n",
       " 'https://api.parknshop.com/medias/APRICOT-SCRUB-BP-158847.jpg?context=bWFzdGVyfHBuc2hrL2ltYWdlc3wzNzQ3MnxpbWFnZS9qcGVnfGg0YS9oMmUvOTMzNjg5MjU1NTI5NC9BUFJJQ09UIFNDUlVCLUJQXzE1ODg0Ny5qcGd8MTNiNzk3NWY0YmQ2NjRkMTJhMDBhNzBjOGY2N2UyN2Y4NWY2MmZmZjY5NzAxNzZmYmNlNzIzNjhiN2Y5NmQ5Ng',\n",
       " 'https://api.parknshop.com/medias/DEEP-CLEAN-FOAMING-CLEANER-BP-145502.jpg?context=bWFzdGVyfHBuc2hrL2ltYWdlc3wzMTE4MHxpbWFnZS9qcGVnfGhhMC9oMWUvOTMzNjMyMDUyNDMxOC9ERUVQIENMRUFOIEZPQU1JTkcgQ0xFQU5FUi1CUF8xNDU1MDIuanBnfDNhZmQ3MTI0YjUyNjdkYTQ0ZDY3MTEwYTkyNWYxNDM1ZDQ1Zjg4ZjEwNGY3MDAxNWI4N2YzYjYzNWJmMDgzODI',\n",
       " 'https://api.parknshop.com/medias/cat-front-BP-283444.jpg?context=bWFzdGVyfHBuc2hrL2ltYWdlc3wxMTQ4MDJ8aW1hZ2UvanBlZ3xoNTEvaDMzLzkzNjA0MTAwNTA1OTAvUE5TSEstQlBfMjgzNDQ0LWZyb250LmpwZ3wxMDgyODA4ZTY2NWFmZGM5ZjIwNTQxMDlkMDhiZGFlNmIyNTY2YWI3OGY5NTU5N2YxZDY1NDJmNGI5NjI5YmQ2',\n",
       " 'https://api.parknshop.com/medias/MINON-AMINO-MOIST-CLEANSING-FOAM-150ML-BP-228806.jpg?context=bWFzdGVyfHBuc2hrL2ltYWdlc3wyNjE0NXxpbWFnZS9qcGVnfGg1Yy9oMTMvOTM0MTA0NjEyODY3MC9NSU5PTiBBTUlOTyBNT0lTVCBDTEVBTlNJTkcgRk9BTSAxNTBNTC1CUF8yMjg4MDYuanBnfDExMmYwNTJhNTNhZTA3NTRkYWYzNmMyNTZmYTg3ZTZiYThhOTgxYTg1ZTNkZDRiYmUyN2JhYWU2ZTcwMjIwYTA',\n",
       " 'https://api.parknshop.com/medias/CLEARFACE-ACTIVE-CLEANSING-FOAM-BP-124896.jpg?context=bWFzdGVyfHBuc2hrL2ltYWdlc3wyMjgwNHxpbWFnZS9qcGVnfGg1Ny9oNzAvOTMzODc5NjE0NjcxOC9DTEVBUkZBQ0UgQUNUSVZFIENMRUFOU0lORyBGT0FNLUJQXzEyNDg5Ni5qcGd8NmI3NmQwNmY1OWUxYTNiYTY1MmFiMzU5M2JiODdhNzNhZjg1MjM5MTIyYWI1MmVmZmM0YTExNjc2YzA1MGMyZA']"
      ]
     },
     "execution_count": 27,
     "metadata": {},
     "output_type": "execute_result"
    }
   ],
   "source": [
    "items_df.iloc[11150:11160]['photo_src'].tolist()"
   ]
  },
  {
   "cell_type": "code",
   "execution_count": 28,
   "id": "06eaf069",
   "metadata": {},
   "outputs": [],
   "source": [
    "images_list = pickle.load(open('images_list.obj','rb'))"
   ]
  },
  {
   "cell_type": "code",
   "execution_count": 29,
   "id": "1597655d",
   "metadata": {},
   "outputs": [
    {
     "data": {
      "text/plain": [
       "11001"
      ]
     },
     "execution_count": 29,
     "metadata": {},
     "output_type": "execute_result"
    }
   ],
   "source": [
    "len(images_list)"
   ]
  },
  {
   "cell_type": "code",
   "execution_count": 13,
   "id": "44ffc15b",
   "metadata": {},
   "outputs": [
    {
     "name": "stderr",
     "output_type": "stream",
     "text": [
      "100%|██████████████████████████████████████████████████████████████████████████████| 3945/3945 [16:18<00:00,  4.03it/s]\n"
     ]
    }
   ],
   "source": [
    "images_list2 = []\n",
    "for sc in tqdm(range(11001,len(items_df.photo_src))):\n",
    "    if 'api' in items_df.photo_src[sc]:\n",
    "        try:\n",
    "            x = display_an_image(items_df.photo_src[sc])\n",
    "        except:\n",
    "            x = ''\n",
    "    else:\n",
    "        x = ''\n",
    "    images_list2.append(x)\n",
    "    if sc % 1000 == 0:\n",
    "        pickle.dump(images_list2,open(f'images_list2.obj','wb'))"
   ]
  },
  {
   "cell_type": "code",
   "execution_count": 14,
   "id": "8d8b56be",
   "metadata": {},
   "outputs": [],
   "source": [
    "pickle.dump(images_list2,open(f'images_list2.obj','wb'))"
   ]
  },
  {
   "cell_type": "code",
   "execution_count": 33,
   "id": "3a40b6c6",
   "metadata": {},
   "outputs": [
    {
     "ename": "FileNotFoundError",
     "evalue": "[Errno 2] No such file or directory: 'image_list2.obj'",
     "output_type": "error",
     "traceback": [
      "\u001b[1;31m---------------------------------------------------------------------------\u001b[0m",
      "\u001b[1;31mFileNotFoundError\u001b[0m                         Traceback (most recent call last)",
      "\u001b[1;32mC:\\Users\\KINGCH~1\\AppData\\Local\\Temp/ipykernel_10452/1588317156.py\u001b[0m in \u001b[0;36m<module>\u001b[1;34m\u001b[0m\n\u001b[1;32m----> 1\u001b[1;33m \u001b[0mimage_list2\u001b[0m \u001b[1;33m=\u001b[0m \u001b[0mpickle\u001b[0m\u001b[1;33m.\u001b[0m\u001b[0mload\u001b[0m\u001b[1;33m(\u001b[0m\u001b[0mopen\u001b[0m\u001b[1;33m(\u001b[0m\u001b[1;34m'image_list2.obj'\u001b[0m\u001b[1;33m,\u001b[0m\u001b[1;34m'rb'\u001b[0m\u001b[1;33m)\u001b[0m\u001b[1;33m)\u001b[0m\u001b[1;33m\u001b[0m\u001b[1;33m\u001b[0m\u001b[0m\n\u001b[0m",
      "\u001b[1;31mFileNotFoundError\u001b[0m: [Errno 2] No such file or directory: 'image_list2.obj'"
     ]
    }
   ],
   "source": [
    "image_list2 = pickle.load(open('image_list2.obj','rb'))"
   ]
  },
  {
   "cell_type": "code",
   "execution_count": 15,
   "id": "02d06f26",
   "metadata": {},
   "outputs": [
    {
     "data": {
      "text/plain": [
       "3945"
      ]
     },
     "execution_count": 15,
     "metadata": {},
     "output_type": "execute_result"
    }
   ],
   "source": [
    "len(images_list2)"
   ]
  },
  {
   "cell_type": "code",
   "execution_count": 20,
   "id": "d1ccce96",
   "metadata": {},
   "outputs": [],
   "source": [
    "images_list = images_list + images_list2"
   ]
  },
  {
   "cell_type": "code",
   "execution_count": 21,
   "id": "c3d400c6",
   "metadata": {},
   "outputs": [],
   "source": [
    "items_df['photo'] = images_list"
   ]
  },
  {
   "cell_type": "code",
   "execution_count": 31,
   "id": "13b730fb",
   "metadata": {},
   "outputs": [
    {
     "data": {
      "text/html": [
       "<table border=\"1\" class=\"dataframe\">\n",
       "  <thead>\n",
       "    <tr style=\"text-align: right;\">\n",
       "      <th></th>\n",
       "      <th>item</th>\n",
       "      <th>unit</th>\n",
       "      <th>unit_price</th>\n",
       "      <th>discount_price</th>\n",
       "      <th>photo</th>\n",
       "    </tr>\n",
       "  </thead>\n",
       "  <tbody>\n",
       "    <tr>\n",
       "      <th>0</th>\n",
       "      <td>WATSONS DISTILLED WATER</td>\n",
       "      <td>430ML</td>\n",
       "      <td>$5.00</td>\n",
       "      <td></td>\n",
       "      <td><img src=\"data:image/jpeg;base64,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\"></td>\n",
       "    </tr>\n",
       "    <tr>\n",
       "      <th>1</th>\n",
       "      <td>WATSONS DISTILLED WATER</td>\n",
       "      <td>1.25L</td>\n",
       "      <td>$10.00</td>\n",
       "      <td></td>\n",
       "      <td><img src=\"data:image/jpeg;base64,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\"></td>\n",
       "    </tr>\n",
       "    <tr>\n",
       "      <th>2</th>\n",
       "      <td>WATSONS DISTILLED WATER</td>\n",
       "      <td>1.8L</td>\n",
       "      <td>$12.00</td>\n",
       "      <td>$9.90</td>\n",
       "      <td><img src=\"data:image/jpeg;base64,/9j/4AAQSkZJRgABAQAAAQABAAD/2wBDAAgGBgcGBQgHBwcJCQgKDBQNDAsLDBkSEw8UHRofHh0aHBwgJC4nICIsIxwcKDcpLDAxNDQ0Hyc5PTgyPC4zNDL/2wBDAQkJCQwLDBgNDRgyIRwhMjIyMjIyMjIyMjIyMjIyMjIyMjIyMjIyMjIyMjIyMjIyMjIyMjIyMjIyMjIyMjIyMjL/wAARCABkAGQDASIAAhEBAxEB/8QAHwAAAQUBAQEBAQEAAAAAAAAAAAECAwQFBgcICQoL/8QAtRAAAgEDAwIEAwUFBAQAAAF9AQIDAAQRBRIhMUEGE1FhByJxFDKBkaEII0KxwRVS0fAkM2JyggkKFhcYGRolJicoKSo0NTY3ODk6Q0RFRkdISUpTVFVWV1hZWmNkZWZnaGlqc3R1dnd4eXqDhIWGh4iJipKTlJWWl5iZmqKjpKWmp6ipqrKztLW2t7i5usLDxMXGx8jJytLT1NXW19jZ2uHi4+Tl5ufo6erx8vP09fb3+Pn6/8QAHwEAAwEBAQEBAQEBAQAAAAAAAAECAwQFBgcICQoL/8QAtREAAgECBAQDBAcFBAQAAQJ3AAECAxEEBSExBhJBUQdhcRMiMoEIFEKRobHBCSMzUvAVYnLRChYkNOEl8RcYGRomJygpKjU2Nzg5OkNERUZHSElKU1RVVldYWVpjZGVmZ2hpanN0dXZ3eHl6goOEhYaHiImKkpOUlZaXmJmaoqOkpaanqKmqsrO0tba3uLm6wsPExcbHyMnK0tPU1dbX2Nna4uPk5ebn6Onq8vP09fb3+Pn6/9oADAMBAAIRAxEAPwD3+iiigAooooAKrXt9bafB591KscecZPc+lWa4LxtcJdana2QbKwKXcA926foP1rDE1vY03Mzqz5I3R0beKtGSSNJL1UMhAXerAEn3xW1Xi+s6PBHbMsEjuhG4ZJOK9M8Jaomq+G7SZWJkjQQyg9Q6jB/x/GssLiXVbjLdGFCvKc3CasblFFFdh1hRRRQAUUUUAFFFFABRRRQAhIUEk4A5NeV3InutRuLt4nAlkLgkYAXtk9uK77xLcSwaDcCAgTTAQoT2LcZ/AZP4V4Hqt098jCa9S8soJSluiHKb8fMS38QHb61xYuiq1ot7HNi5QhT55dDqINRj1yaaDSPPvGiOyVoIWZFPu2Meveuo+HaXem31/p13E8YlUTxhuORw381rh7/VbfTo7J9JhlgFtCsJfyfLZm/iYOp+bJGRketdDofinxDqHiWwC6aJbCHaLq9C4DB8YI6BTgqSOe9RRw8aVROJzYaVKdbS/MvuPWqKKK9A9IKKKKACiiigAooooAKKKKAOI+I+tXuk22mDT0V7mWd2VSpbO1DwAOvJFeUXYvNS09r2+sYLF3lzGlugVGbADZGfkPAPPfNeofEicRS6UGBAYTgMDgg4XofpmuCt7aG82n7JLKhbbkT/AOP+elYVHrY83GNVH7JmXeq8tqYz5ShWG3a+c/XgY4ra0621bTrj7QWSOx8oGKMuQ2VXALDsSAOO1Q2wj0+7ytgu49DuBwARkjnI4I/Opn1nzY7hJ4ZI1WNjl+OxrN3OWjH2M+e+ux7jBKJ7eOUdHQMPxGakqnpW7+yLLeMP9nj3D32irldZ7gUUUUAFFFFABRRRQAUUUUAcl498OS6/pto1vKkc9rPuBboysCpGe3UH8K8//wCFf+I7dHjjk09wCfmZiCMjHXFeyX4zaP8AUfzFVL2xju4VWXozdP5VLgnuc9XDU6suaW55OvgXxayELHphGCAS2epB4OPaq8Pw712SYw3k0EYmcIxBYhQSAcceh4Fes21jNplxhLgmCQYww6HsajW4e61O3jaXeiyZI+gJ/nQqcSFgqSaev3m6iLHGqKMKoAA9BTqKKo6wooooAKKKKACiiigAooooAzdWeQGziQ4Es4D8fwgE/wAwKsFRKNpPHtTL35ruzXtuZvyH/wBenw/eP1oAry+dC+yVxLAwOGIwUP8AhXJ2l28OoFlb5l5H4V12pH/RzXBsSupMB3Vv5U0JnplFMhfzIY3/ALyg/pT6QwooooAKKKKACiiigAooooApXjBLq2ZunzAfXFSW/Iz603ULP7bbhBIY3VgytjODWVeWHiAqqWV/bogHIKkMfxwcUAat+m+BhXByx7NWJI4GSfyrr7m21Z9PSOC5jFyDy7jIYf59qq2/h6d545r2aJmB3OI1Pzc5AprQRvW6GO2iQ9VQA/lUlFFIYUUUUAFFFFABRRRQAUUUUAFFFFABRRRQAUUUUAFFFFABRRRQB//Z\"></td>\n",
       "    </tr>\n",
       "    <tr>\n",
       "      <th>3</th>\n",
       "      <td>WATSONS DISTILLED WATER WITH MINERALS</td>\n",
       "      <td>430ML</td>\n",
       "      <td>$5.00</td>\n",
       "      <td></td>\n",
       "      <td><img src=\"data:image/jpeg;base64,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\"></td>\n",
       "    </tr>\n",
       "    <tr>\n",
       "      <th>4</th>\n",
       "      <td>WATSONS MINERALISED WATER</td>\n",
       "      <td>800ML</td>\n",
       "      <td>$6.50</td>\n",
       "      <td></td>\n",
       "      <td><img src=\"data:image/jpeg;base64,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\"></td>\n",
       "    </tr>\n",
       "    <tr>\n",
       "      <th>5</th>\n",
       "      <td>WATSONS MINERALIZED WATER 6S</td>\n",
       "      <td>430MLx6</td>\n",
       "      <td>$21.90</td>\n",
       "      <td></td>\n",
       "      <td><img src=\"data:image/jpeg;base64,/9j/4AAQSkZJRgABAQAAAQABAAD/2wBDAAgGBgcGBQgHBwcJCQgKDBQNDAsLDBkSEw8UHRofHh0aHBwgJC4nICIsIxwcKDcpLDAxNDQ0Hyc5PTgyPC4zNDL/2wBDAQkJCQwLDBgNDRgyIRwhMjIyMjIyMjIyMjIyMjIyMjIyMjIyMjIyMjIyMjIyMjIyMjIyMjIyMjIyMjIyMjIyMjL/wAARCABkAGQDASIAAhEBAxEB/8QAHwAAAQUBAQEBAQEAAAAAAAAAAAECAwQFBgcICQoL/8QAtRAAAgEDAwIEAwUFBAQAAAF9AQIDAAQRBRIhMUEGE1FhByJxFDKBkaEII0KxwRVS0fAkM2JyggkKFhcYGRolJicoKSo0NTY3ODk6Q0RFRkdISUpTVFVWV1hZWmNkZWZnaGlqc3R1dnd4eXqDhIWGh4iJipKTlJWWl5iZmqKjpKWmp6ipqrKztLW2t7i5usLDxMXGx8jJytLT1NXW19jZ2uHi4+Tl5ufo6erx8vP09fb3+Pn6/8QAHwEAAwEBAQEBAQEBAQAAAAAAAAECAwQFBgcICQoL/8QAtREAAgECBAQDBAcFBAQAAQJ3AAECAxEEBSExBhJBUQdhcRMiMoEIFEKRobHBCSMzUvAVYnLRChYkNOEl8RcYGRomJygpKjU2Nzg5OkNERUZHSElKU1RVVldYWVpjZGVmZ2hpanN0dXZ3eHl6goOEhYaHiImKkpOUlZaXmJmaoqOkpaanqKmqsrO0tba3uLm6wsPExcbHyMnK0tPU1dbX2Nna4uPk5ebn6Onq8vP09fb3+Pn6/9oADAMBAAIRAxEAPwD3+iiigAooooAKrzXtrbyCOaeNHIyFLc1YrgrgtqGqs2TmaYKD/s5wP0q4Q5iJz5TtEv7V5ViWdC7dBnrVmvN9bs5tN1CVUmkUI4khOegPT8jx+Fd/p919t063ueAZY1YgdjjmtKtFQipJ3TMKGIdScoSVmizRRRWB1BRRRQAUUUUAFFFFABTDLGrbS6g+hNQajfR6bp1xeS/chQsff0H5149NdywPPqEzBpiS53HILMa6cPhnWvZ2OXE4pULXVz2iU7YXPopNcFZajY2+q2aT3USNuDYZgO1cdbeOtbQpuv2dFxuTaOR0x0p18y31y16lwjuwBV9oUDHbjpXbDLpwbU3o+xx1MxhJJxWq7noPjRoZNPtLuE+ZmTy90Y3ZUgnt7ipPDWtWtvocMM7uJFZwFEbE43HHb3ryiDWbyK8k26hcHHG4ORk+1bc/iW6R42LFiYwGyepFXLATUVT36mP16Cm623Q9dgv7a4hEscy7TkfN8p/I1YBDAEEEHoRXgF1eT6hdmRpWxsJxn07V6F8MtaN3YT6XK2XtsPHk87D1H4H+dc+Iy6VGn7RO9jqw2YxrVFTta531FFFecekFFFFABRRRQBwvxO1Q2ekWlmhObmbc2P7q4P8AMivLNRvpZ0bOcE7iPQdBXX/FOaSbxHZ26DIjgHGe7En+Qrh9TmEKR2wdGIG5mXoT2r6TLoxjRiur1Pm8e5TryfRaEAcGTKnG1RketWYnKuceuaphJCBIIvlYkA468V2OhaZplzpkd7cq7u0hjK5IUHGegx2967qtaNOPMzijRlUlyxOfgYtcv5SFncY2gZJqw4knjjjAyyEgk9h/kV3Fu9rZyTRWlpHEyKDlRgsO/v8ArXM6/EbHXJQmBDMfMXPA+bn+ea5aeKVSpZKxvVwrp073uZv2WRFJ3Hdg4wOOa0fCF5Jo/jSwYsfLuH8h8jGQ3A/XFZxu1Dkb+x+7/nFVLi5ZLmO5RmzE6yLk5xg5/pW806kJRfVMwpS9nUjJdGfSVFNRhJGrjowBFOr5A+xCiiigAooooA8j8dRLL4zuvNAKC2iwPX71cBqdqtprSW0udnlxE490H9a9e8ZaX5+tpdGCUobZULxgHkM3X86808cRxC+s5YUOXt1QsTz8nHT8q9/ATvyryseHjLc0l8ylcXUiJEIiVQ9WVcD0wK0NC1uDTrS6gnhkmV3V4wGxhhnJP51znmzzuoZTt44HA/Kr8Fs55IxXoypRlHlkea6rpy5o7mxfeMrwnMEUFsAMBgu5vzP+FZNzf3OoAT3Nw8zAhfmPKj6U86c87bQCe+AMmrB0hrUKrAAtyemfxqYwp02lFWB1pTg3JtlBc78+1OktZp4XKoQu3754HT1rTWwV+BnPoK3bXw/qN+tvELaRImKh5ZsgAd8Z5PH4UVaypq7ZnQj7Sdkj1/TSTpdoT1MKZ/75FWqbGAsahRgAACnV8iz7FBRRRQMKKKKAKNxJi+Cjp5Yz+dcJ428I3PiS/ge0nhh8lCCHzg59MDrXbTH/AE6U/QfpVUPuuJfY4rSlVlSmpw3M6tKNWPLLY8xg+GmrK/zXVnt9Qzf4VetfAd35jxTXkce3HIQkMD6V6CG+amucSxnHU4P5V1vM8Q+q+44f7Kw3VP7zn7Dwdb20eya7kkBPIRQmfx61bHhnTY7qEm1SSEcMJCSQeea2sUEZFc8sTVk7uR0wwdCKsor8/wAyO1s7OzcPb2sMRxj5EAyKkZVRWK1IEyKbIuENYuTerOiMVFWSsasf+rX6CnUyE5gjPqo/lT6QwooooAKKKKAMq5YR3kgYgZwwz9P/AK1V41GWKj7zE1sT20FyoE0SuB0yOlY19Z6nb+Z/Z0cUqHlVZ9rKfTng0WAlZNpyabuXzFU9TzWAtv4sa5DmzIB+9vnQqPpzW9Do1xOolupjBNjgQtuCn6kc03G3UlSv0JHlij4eRFJ6AnFNeUKAfU4rGuPAs88/mNrbtznD24P9RWrp/hlbRNtxf3F0OPlbCj9P8aGl3BN31QTalb2+BIxz3wM4+tJLex+USpBYj5B6+lXn0HS5JPMazTeepBIz+tT2+nWlrsMMCKUXap6kD0yaWg9SeJdkKJ/dUCn0UUDCiiigAooooAKKKKACiiigAooooAKKKKACiiigAooooA//2Q==\"></td>\n",
       "    </tr>\n",
       "    <tr>\n",
       "      <th>6</th>\n",
       "      <td>WATSONS MINERALIZED WATER</td>\n",
       "      <td>4.5L</td>\n",
       "      <td>$22.90</td>\n",
       "      <td></td>\n",
       "      <td><img src=\"data:image/jpeg;base64,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\"></td>\n",
       "    </tr>\n",
       "    <tr>\n",
       "      <th>7</th>\n",
       "      <td>WATSONS ALKALINE WATER 9.0</td>\n",
       "      <td>1.2L</td>\n",
       "      <td>$13.90</td>\n",
       "      <td></td>\n",
       "      <td><img src=\"data:image/jpeg;base64,/9j/4AAQSkZJRgABAQAAAQABAAD/2wBDAAgGBgcGBQgHBwcJCQgKDBQNDAsLDBkSEw8UHRofHh0aHBwgJC4nICIsIxwcKDcpLDAxNDQ0Hyc5PTgyPC4zNDL/2wBDAQkJCQwLDBgNDRgyIRwhMjIyMjIyMjIyMjIyMjIyMjIyMjIyMjIyMjIyMjIyMjIyMjIyMjIyMjIyMjIyMjIyMjL/wAARCABkAGQDASIAAhEBAxEB/8QAHwAAAQUBAQEBAQEAAAAAAAAAAAECAwQFBgcICQoL/8QAtRAAAgEDAwIEAwUFBAQAAAF9AQIDAAQRBRIhMUEGE1FhByJxFDKBkaEII0KxwRVS0fAkM2JyggkKFhcYGRolJicoKSo0NTY3ODk6Q0RFRkdISUpTVFVWV1hZWmNkZWZnaGlqc3R1dnd4eXqDhIWGh4iJipKTlJWWl5iZmqKjpKWmp6ipqrKztLW2t7i5usLDxMXGx8jJytLT1NXW19jZ2uHi4+Tl5ufo6erx8vP09fb3+Pn6/8QAHwEAAwEBAQEBAQEBAQAAAAAAAAECAwQFBgcICQoL/8QAtREAAgECBAQDBAcFBAQAAQJ3AAECAxEEBSExBhJBUQdhcRMiMoEIFEKRobHBCSMzUvAVYnLRChYkNOEl8RcYGRomJygpKjU2Nzg5OkNERUZHSElKU1RVVldYWVpjZGVmZ2hpanN0dXZ3eHl6goOEhYaHiImKkpOUlZaXmJmaoqOkpaanqKmqsrO0tba3uLm6wsPExcbHyMnK0tPU1dbX2Nna4uPk5ebn6Onq8vP09fb3+Pn6/9oADAMBAAIRAxEAPwD3m7u4LG0lurqVYoIlLSSMcBQO5rC/4T7wn/0H7L/v5TvHf/Iia3/16P8Ayr5wsbe2nt5VnlEWIyyuRnLZ4H0rtwuFjWi23scmIxEqUkkj6N/4T7wn/wBB+y/7+Uf8J94T/wCg/Zf9/K+cDZWnzH7fHtz8vHNMFtbCRA14pVlLEhfu+x966PqFPuzn+u1OyPpL/hPvCf8A0H7L/v5R/wAJ94T/AOg/Zf8AfyvnZdGDrlbgn1xESBVaWyWK1M3mknOAhXB+tCwNJ/aY/rtRdEfSX/CfeE/+g/Zf9/KP+E+8J/8AQfsv+/lfMNFP+zod2T9fn2R9Pf8ACfeE/wDoP2X/AH8o/wCE+8J/9B+y/wC/lfMNFH9nQ7sPr8+yPp7/AIT7wn/0H7L/AL+Vb03xVoOr3YtdO1W2uZypby43ycDqa+Vq734Pf8j6n/XrL/Soq4GEIOSb0Lp4yc5qLW59CUUUV5h6Jz3jrnwJrf8A16P/ACr5iCHGOa+n/G6lvBGsgdTav/Kvniy083I4Fevl/wDDk/M8jMJWqRS7GVHbSSuERSWPaniylMgj2/Me1dJBpDRyjcdn+1jNXY9Fj3h/P59dhrqlUszGFPmRyrWl7HL5RkcMccBzTJbe6QCF2bBP3Sa7waCshDmYseMHYaiuNAQYYzEYPXYazVbUt0bI4abTri3KiVNu7kc5ok0+eJQzoQpOAa7V9GWUL5k+7HQmOlfR1dRvuCVByMpxT9swVFM4Z7OWMZZSP8//AF6Y1tKsYkKMEJwGxxXbT6MhjwZxtx18v+tZV3poSAqs24DkL5eM1canMRUp8iuc1g13nwe/5H1P+vWX+lchLaMnbiuz+ESbfHqf9esv9KMSv3MvQjDTTqxXmfQFFFFfPH0Bna9EJ9AvoiMh4WFeRx6A2m6ijhc28pwfavZNQXfp86juhrm1tEnhMci124Wq4Ra6M4MZQ9pJPqjCuPDpltw0QAb1qI6DK0KgFRJu3E44rp7Fim61l+8nQ+op7IFcim5O+o425VYzbTw//oaIxII6lOKS+8NtJbCONsMD95+a6SxGY8U+7YxtEB0J5rB1GmbqCkrnGSeGJWtFiUqHBzuxUb+HJDaJESodT1A4NdnM3lpIcDpx7GopYxtz7VUatyZU+U49vD7/AGYLvHmA53Y4NZdzoBVMNgnufWuo1C7W3R3ZtkaDLN6f/XrAg1211K7EMUXynjLuSTXRByWqOepaSszlNS0cRgsF4rQ+GFsYfHSHHH2aT+ldDrmjmFd0bg8bimc8e1QeBLXZ4tWUD5fIcfyrqlWUqEvQ4YUJQxEfU9WooorxD3ytqEywafPK33UQk1i+ZFNAJomHTNXvErbPDWot6QMa840vWWjkihLEo7BSM+prroUnKDkuhzVqijNRZ0F/qUMZWaScQuv3eMl/w9KmtLk6hH5sDsceorzrXdRuZfEyyLb742LCOPIwQAf5Vq6R4gns7GaRIWWMOQSGBAHHH6itpU2oqxhGacnc9L0uc52MMNVTxLrVrpU1qtxIqmQErk47is/w/eSXO5pfldSMD2Ncp8YZCNQ0UZ4MUnH/AAJaihQVWuoS6/5F1q0qVBzjujqj4p0x47vfOhCRFvv1vxSC40y3nU5EkSuD65ANeB3xAsLklUG6D+Hg9P8A69e8aOB/wjWlKf8Anzh/9AFa4zDQoKLj1MsDip4hyU1tb8TkvEks8dsscaRvmVmKyHCkBe/61wdvcXFtGswjgBa8ZBhjnO7p06dq9N1+1tblWhnOEfuOqn1rzi98FzLdN5Mu9M5DK3WijytajrJxehv2WpXd00odExHOqEg5I6HA46f411XhuGGPxExiAC7X2j0FcNY21roERd5A8/YA5A9zW14G1VrzxesWfl8hz/KnOk+STW1jONVe0invc9Voooryz1TI8VHb4V1M5xi3b+VeJR3LIyuvDKQQR0yPavbvE4U+GNSDHC+Q2fyrxxLe2b/loK9PAv3H6nkZi2qkbdv1KGsWN3Kq6nbSSGAkhWDZ8snqp9Opqlp9tql2Xt1mZ45G3OuBz0/wFdfa6a/lsba4O1vvKp6/Ud6nh026izLbyY2n5iiAY+uBXTzLYxjKW7TOj8OWZt7ZVZt0q4L+3+c1ynxlYDUtB56xS/zWup0i7w4BASQdV7H6Vw/xrnIvtAP/AEym/wDQlrPCQaxcb+f5HVUkqmHkkcpfzwmxvGkkdJBagRoR973zXudvffZ/C2nyE4RLGJmb0GwV87ahICZDjH+jDPevZdZlkbwZbQRZJaxg4Xv8oz/MV05lTvyL1M8F7in8vyKo8SSXuprC1usS4yNy5JHrk1e12GKO1V7SRTKy546E+n1rhJf9F1aIHVIyTAfnRV+X5sbevoali1KSW3tWW481zKB5fHyjJ59ccfrXGoapxLnU918xUnnlnJZzj1J7V0fwxkQ+NVVck/Z5MsfwrktSvFu72ebIVHkZlVegGa6X4VOp8cKAP+XaTn8q6q7/AHMvQ8nDScsTH1PdKKKK8A+qMnxPEZ/DGpRL1eBgPyrxgaS0P+sm217brlrcX2h3tralRcSxMsZY4GT715e3w78UyH55bX/v8T/SvSwM4Ri1KSWp4+ZU6spp04t6dDKhjSI/LMxP+zmtiw+3mQeRBdEHgsiHpTU+HHiJT/rLb8Jj/hWzp/hXxHp8e1YrSRyf9ZJcucfQdK6alWlb3ZJnBQo4ly9+MkjZ0GxuWQi8sdq5yC3DCvNfjiFtta0ALtfbDMdpGf4l616/o1lqFvCBfSKzjsrZFQ634O0LxFKkuq6fHcSxjCOSQVHsRXFRxSpYhVJapdj3lQXsuRfifMN5fTX0MrTD5hHtBPXHpX0hY6ZHL4Z01wMs1nFkgZJGwcfSoY/hb4QjYH+yVfHZ5GI/LNdIbMwwR29rGqQxqFVFbAAHatsZjoV1FU1axFDDOknfW55LrfgmCe6eW3tLiBTzs2ZH4c5rEl0CayiaO2t5AzDDSMvOPQDtXsdxpl+JC0EUTqeollLD9RxWNd+EtRuXZh5KZ7BziiliUtJM4sTh5SXuRdzxq40uWPIfK/UV1XwqtxF43U78n7NJx+Vbt78OdYmP7v7MfrKR/Sr3gvwLqugeJFv7sQCEROnyS7jk47YratXpSpSSkr2OHC4bEwrxcou1z0miiivFPpwooooAKKKKACiiigAooooAKKKKACiiigAooooA/9k=\"></td>\n",
       "    </tr>\n",
       "    <tr>\n",
       "      <th>8</th>\n",
       "      <td>WATSONS ALKALINE WATER 9.0</td>\n",
       "      <td>420ML</td>\n",
       "      <td>$10.90</td>\n",
       "      <td>$7.50</td>\n",
       "      <td><img src=\"data:image/jpeg;base64,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\"></td>\n",
       "    </tr>\n",
       "    <tr>\n",
       "      <th>9</th>\n",
       "      <td>WATSONS MINERALISED WATER</td>\n",
       "      <td>1.25L</td>\n",
       "      <td>$10.00</td>\n",
       "      <td></td>\n",
       "      <td><img src=\"data:image/jpeg;base64,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\"></td>\n",
       "    </tr>\n",
       "  </tbody>\n",
       "</table>"
      ],
      "text/plain": [
       "<IPython.core.display.HTML object>"
      ]
     },
     "execution_count": 31,
     "metadata": {},
     "output_type": "execute_result"
    }
   ],
   "source": [
    "HTML(items_df.iloc[:10][['item','unit','unit_price','discount_price','photo']].to_html(formatters={'photo': image_formatter}, escape=False))"
   ]
  },
  {
   "cell_type": "code",
   "execution_count": 32,
   "id": "79f29dbe",
   "metadata": {},
   "outputs": [],
   "source": [
    "pickle.dump(items_df,open('Park_n_Shop_Items_df_full.obj','wb'))"
   ]
  },
  {
   "cell_type": "code",
   "execution_count": null,
   "id": "f9e4de3b",
   "metadata": {},
   "outputs": [],
   "source": []
  }
 ],
 "metadata": {
  "kernelspec": {
   "display_name": "Python 3 (ipykernel)",
   "language": "python",
   "name": "python3"
  },
  "language_info": {
   "codemirror_mode": {
    "name": "ipython",
    "version": 3
   },
   "file_extension": ".py",
   "mimetype": "text/x-python",
   "name": "python",
   "nbconvert_exporter": "python",
   "pygments_lexer": "ipython3",
   "version": "3.9.7"
  }
 },
 "nbformat": 4,
 "nbformat_minor": 5
}
